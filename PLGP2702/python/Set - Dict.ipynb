{
 "cells": [
  {
   "cell_type": "code",
   "execution_count": 12,
   "id": "0379383b",
   "metadata": {},
   "outputs": [
    {
     "name": "stdout",
     "output_type": "stream",
     "text": [
      "Return random integer in range [a, b], including both end points.\n",
      "        \n",
      "{526, 530, 19, 27, 548, 555, 560, 571, 67, 580, 70, 588, 600, 89, 90, 604, 101, 109, 621, 629, 120, 632, 635, 125, 141, 150, 678, 679, 171, 694, 187, 703, 713, 205, 213, 735, 223, 738, 226, 743, 744, 233, 234, 747, 748, 753, 242, 764, 774, 775, 781, 783, 272, 274, 275, 792, 287, 800, 812, 301, 816, 311, 828, 328, 846, 850, 851, 857, 345, 861, 356, 871, 360, 365, 879, 391, 903, 394, 397, 928, 930, 932, 426, 430, 433, 945, 444, 456, 970, 459, 461, 464, 979, 981, 992, 489, 494, 495, 500, 502}\n",
      "{775, 391, 781, 783, 272, 274, 694, 571, 580, 70, 846, 464, 850, 226, 738, 356, 743, 879, 753, 125}\n",
      "{738, 226, 356, 391, 781, 272, 464, 753, 694, 571}\n"
     ]
    }
   ],
   "source": [
    "# Bai 15 tr.215 - Thanh An\n",
    "import random\n",
    "A = set()\n",
    "B = set()\n",
    "C = set()\n",
    "while len(A) != 100:\n",
    "    A.add(random.randint(1, 1000))\n",
    "temp = list(A)\n",
    "while len(B) != 20:\n",
    "    B.add(random.choice(temp))\n",
    "temp = list(B)\n",
    "while len(C) != 10:\n",
    "    C.add(random.choice(temp))\n",
    "print(A)\n",
    "print(B)\n",
    "print(C)"
   ]
  },
  {
   "cell_type": "code",
   "execution_count": 24,
   "id": "2f4eeaa0",
   "metadata": {},
   "outputs": [
    {
     "name": "stdout",
     "output_type": "stream",
     "text": [
      "{1415, 1037, 1564, 801, 1327, 313, 831, 1983, 324, 966, 1223, 1738, 1873, 1491, 1238, 610, 994, 1382, 1769, 1660}\n",
      "{2, 3, 5, 7, 11, 17, 277, 661, 23, 283, 29, 1327, 691, 313, 61, 1223, 71, 79, 1873, 83, 89, 619}\n"
     ]
    }
   ],
   "source": [
    "# Bai 16 tr.215 - a hung\n",
    "import random\n",
    "\n",
    "def prime(val):\n",
    "    for i in range(2,val//2+1):\n",
    "        if val % i == 0:\n",
    "            return False\n",
    "    return True\n",
    "\n",
    "A = set()\n",
    "count = 0\n",
    "while count != 20:\n",
    "    val = random.randint(2,2000)\n",
    "    if val not in A:\n",
    "        A.add(val)\n",
    "        count += 1\n",
    "        \n",
    "B = set()\n",
    "for val in A:\n",
    "    for i in range(2,val//2+1):\n",
    "        if val % i == 0 and prime(i):\n",
    "            B.add(i)\n",
    "    if prime(val) :\n",
    "        B.add(val)\n",
    "\n",
    "print(A)\n",
    "print(B)\n",
    "            \n"
   ]
  },
  {
   "cell_type": "code",
   "execution_count": 18,
   "id": "32546c8f",
   "metadata": {},
   "outputs": [
    {
     "name": "stdout",
     "output_type": "stream",
     "text": [
      "2 2 3\n"
     ]
    }
   ],
   "source": [
    "# Bai 17 tr.215 - thanh nhat\n",
    "C = {\"hhh\",1,2,\"hhr\",1.2,\"hh1\",1.3}\n",
    "dint = 0\n",
    "dfloat = 0\n",
    "dstr = 0\n",
    "for i in C:\n",
    "    if type(i) == int:\n",
    "        dint+=1\n",
    "    elif type(i) == float:\n",
    "        dfloat+=1\n",
    "    elif type(i) == str:\n",
    "        dstr+=1\n",
    "print(dint,dfloat,dstr)"
   ]
  },
  {
   "cell_type": "code",
   "execution_count": 15,
   "id": "d9de2f84",
   "metadata": {},
   "outputs": [
    {
     "name": "stdout",
     "output_type": "stream",
     "text": [
      "19\n",
      "{19}\n",
      "{2, 3, 5, 7, 11, 13, 17}\n"
     ]
    }
   ],
   "source": [
    "# Bai 18 tr.215 - Hoan My\n",
    "def snt(n):\n",
    "    if n < 2:\n",
    "        return 0\n",
    "    check = True\n",
    "    for i in range(2, n//2 +1):\n",
    "        if n % i == 0:\n",
    "            check = False\n",
    "            break\n",
    "    if check:\n",
    "        return 1\n",
    "    else:\n",
    "        return 0\n",
    "n = int(input())\n",
    "A = set()\n",
    "B = set()\n",
    "for i in range(1, n + 1):\n",
    "    if n % i == 0 and snt(i):\n",
    "        A.add(i)\n",
    "    elif n % i != 0 and snt(i) and i < n:\n",
    "        B.add(i)\n",
    "print(A)\n",
    "print(B)"
   ]
  },
  {
   "cell_type": "code",
   "execution_count": 51,
   "id": "5aacf86f",
   "metadata": {},
   "outputs": [
    {
     "name": "stdout",
     "output_type": "stream",
     "text": [
      "5\n"
     ]
    }
   ],
   "source": [
    "# Bai 20 tr.215 - \n",
    "def normalizeLastName(newSet):\n",
    "    list1 = []\n",
    "    for item in newSet:\n",
    "        length = len(item.split())\n",
    "        list1.append(item.split()[length - 1])\n",
    "    return list1\n",
    "def solve(newList1, newList2):\n",
    "    sum = 0\n",
    "    for item in normalizeLastName(newList1):\n",
    "        listC.append(item)\n",
    "    for item in set(normalizeLastName(newList1)).intersection(normalizeLastName(newList2)):\n",
    "        count = 0\n",
    "        for i in range(0, len(listC)):\n",
    "            if item == listC[i]:\n",
    "                count += 1\n",
    "        sum = sum + count\n",
    "    return sum\n",
    "\n",
    "# def normalizeFirstName(newSet):\n",
    "#     list1 = []\n",
    "#     for item in newSet:\n",
    "#         list1.append(item.split()[0])\n",
    "#     return set(list1)\n",
    "\n",
    "\n",
    "A = {\"Bùi Việt Hà\", \"Nguyễn Việt Hà\", \"Nguyễn Quang Vinh\", \"Trương Anh Tú\", \"Trần Thị Hoa\"}\n",
    "B = {\"Nguyễn Việt Hà\", \"Bùi Cẩm Tú\", \"Lê Quang Vinh\", \"Hà Anh Tú\"}\n",
    "listC = []\n",
    "count1 = solve(A, B)\n",
    "count2 = solve(B, A)\n",
    "print(count2 - len(set(normalizeLastName(A)).intersection(set(normalizeLastName(B)))))\n"
   ]
  },
  {
   "cell_type": "code",
   "execution_count": 46,
   "id": "38fd059e",
   "metadata": {},
   "outputs": [
    {
     "name": "stdout",
     "output_type": "stream",
     "text": [
      "cap nhat moi {'Minh Ba Do': 9, 'Doan Tien Nhac': 10}\n",
      "Thai Hoa\n",
      "10\n",
      "Da tao moi\n",
      "{'Minh Ba Do': 9, 'Doan Tien Nhac': 10, 'Thai Hoa': 10.0}\n"
     ]
    }
   ],
   "source": [
    "# Bai 11 tr. 203\n",
    "C={\n",
    "    \"Minh Ba Do\": 9,\n",
    "    \"Doan Tien Nhac\":10   \n",
    "}\n",
    "print(\"cap nhat moi\",C)\n",
    "n = len(C)\n",
    "ten=input()\n",
    "diem = float(input())\n",
    "if type(C.get(ten)):\n",
    "    C.update({ten:diem})\n",
    "if len(C) == n:\n",
    "    print(\"Da cap nhat\")\n",
    "else:\n",
    "    print(\"Da tao moi\")\n",
    "print(C)"
   ]
  },
  {
   "cell_type": "code",
   "execution_count": null,
   "id": "410807e8",
   "metadata": {},
   "outputs": [],
   "source": [
    "# Bai 12 tr. 203\n"
   ]
  },
  {
   "cell_type": "code",
   "execution_count": 25,
   "id": "47f44c31",
   "metadata": {},
   "outputs": [
    {
     "name": "stdout",
     "output_type": "stream",
     "text": [
      "Ha :  8.25\n",
      "Binh :  9.0\n",
      "Hoa :  7.25\n"
     ]
    }
   ],
   "source": [
    "# Bai 13 tr. 203\n",
    "D = {\"Ha\":[7,9.5], \"Binh\":[10,8], \"Hoa\":[5.5,9]}\n",
    "temp = []\n",
    "for x in D:\n",
    "    temp = D[x]\n",
    "    avg = 0\n",
    "    for i in temp:\n",
    "        avg += i\n",
    "    avg /= len(temp)\n",
    "    print(x,\": \",avg)"
   ]
  },
  {
   "cell_type": "code",
   "execution_count": null,
   "id": "9b2b0036",
   "metadata": {},
   "outputs": [],
   "source": []
  }
 ],
 "metadata": {
  "kernelspec": {
   "display_name": "Python 3.10.5 64-bit",
   "language": "python",
   "name": "python3"
  },
  "language_info": {
   "codemirror_mode": {
    "name": "ipython",
    "version": 3
   },
   "file_extension": ".py",
   "mimetype": "text/x-python",
   "name": "python",
   "nbconvert_exporter": "python",
   "pygments_lexer": "ipython3",
   "version": "3.10.5"
  },
  "vscode": {
   "interpreter": {
    "hash": "281f676dbe7bf7e07953c9233552a4b4535e36268e93b318725eb696c7a0729f"
   }
  }
 },
 "nbformat": 4,
 "nbformat_minor": 5
}
