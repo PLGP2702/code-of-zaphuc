{
 "cells": [
  {
   "cell_type": "code",
   "execution_count": 3,
   "id": "a2025d75",
   "metadata": {},
   "outputs": [
    {
     "name": "stdout",
     "output_type": "stream",
     "text": [
      "Chu Vi la: 18\n",
      "Dien Tich la: 20\n"
     ]
    }
   ],
   "source": [
    "# Bai 3 tr.73 - Duy Khanh\n",
    "class QS:\n",
    "    def __init__(self,w,h):\n",
    "        self.w = w\n",
    "        self.h = h\n",
    "    def ChuVi(self):\n",
    "        return((self.w+self.h)*2)\n",
    "    def DienTich(self):\n",
    "        return(self.w*self.h)\n",
    "    # __str__()\n",
    "    \n",
    "    # __eq__()\n",
    "    \n",
    "    # __le__() Nhỏ hơn hoặc bằng\n",
    "    \n",
    "    \n",
    "p1 = QS(5,4)\n",
    "print(\"Chu Vi la:\",p1.ChuVi())\n",
    "print(\"Dien Tich la:\",p1.DienTich())"
   ]
  },
  {
   "cell_type": "code",
   "execution_count": 6,
   "id": "7c688728",
   "metadata": {},
   "outputs": [
    {
     "name": "stdout",
     "output_type": "stream",
     "text": [
      "nhat hue 165 46 Trung Binh\n",
      "nhat Da Nang 22 33 Kha\n"
     ]
    }
   ],
   "source": [
    "# Bai 4 tr.73 - Thanh Nhat\n",
    "class Hocsinh:\n",
    "    def __init__(self,hoTen,diaChi,chieuCao,canNang):\n",
    "        self.hoTen = hoTen\n",
    "        self.diaChi =  diaChi\n",
    "        self.chieuCao = chieuCao\n",
    "        self.canNang = canNang\n",
    "    def setDiaChi(self,diaChi):\n",
    "        self.diaChi = diaChi\n",
    "    def setCN(self,chieuCao,canNang):\n",
    "        self.chieuCao = chieuCao\n",
    "        self.canNang = canNang\n",
    "    def setHocLuc(self,hocLuc):\n",
    "        self.hocLuc = hocLuc\n",
    "    def __str__(self):\n",
    "        return self.hoTen + \" \" + self.diaChi + \" \" +str(self.chieuCao) + \" \" + str(self.canNang) + \" \" + self.hocLuc\n",
    "p1 = Hocsinh(\"nhat\",\"hue\",165,46)\n",
    "p1.setHocLuc(\"Trung Binh\")\n",
    "print(str(p1))\n",
    "p1.setDiaChi(\"Da Nang\")\n",
    "p1.setCN(22,33)\n",
    "p1.setHocLuc(\"Kha\")\n",
    "print(str(p1))"
   ]
  },
  {
   "cell_type": "code",
   "execution_count": 41,
   "id": "35b7f072",
   "metadata": {},
   "outputs": [
    {
     "name": "stdout",
     "output_type": "stream",
     "text": [
      "a =  1.2\n",
      "b =  3.2\n",
      "c =  2.4\n",
      "S =  6.8\n",
      "a =  1.4\n",
      "b =  3.5\n",
      "c =  6.4\n",
      "S =  11.3\n",
      "False\n",
      "True\n"
     ]
    }
   ],
   "source": [
    "# Bai 5 tr.73\n",
    "class Triple:\n",
    "    def __init__(self, a, b, c):\n",
    "        self.a = a\n",
    "        self.b = b\n",
    "        self.c = c\n",
    "        self.S = round(a+b+c, 2)\n",
    "    def Update(self):\n",
    "        self.S = round(a + b + c, 2)\n",
    "    def Change(self, a, b, c):\n",
    "        self.a = a\n",
    "        self.b = b\n",
    "        self.c = c\n",
    "        self.S = round(a + b + c, 2)\n",
    "    def show(self):\n",
    "        print(\"a = \", self.a)\n",
    "        print(\"b = \", self.b)\n",
    "        print(\"c = \", self.c)\n",
    "        print(\"S = \", self.S)\n",
    "    def isTriange(self):\n",
    "        return self.a + self.b > self.c and self.b + self.c > self.a and self.a + self.c > self.b\n",
    "trip1 = Triple(1.2, 3.2, 2.4)\n",
    "trip1.show()\n",
    "trip1.Change(1.4, 3.5, 6.4)\n",
    "trip1.show()\n",
    "trip2 = Triple(5.2, 10.2, 12.2)\n",
    "print(trip1.isTriange())\n",
    "print(trip2.isTriange())"
   ]
  },
  {
   "cell_type": "code",
   "execution_count": 31,
   "id": "69005f75",
   "metadata": {},
   "outputs": [
    {
     "name": "stdout",
     "output_type": "stream",
     "text": [
      "3+4+5=12\n",
      "la tam giac\n",
      "S Cap Nhat 15\n"
     ]
    }
   ],
   "source": [
    "# Bai 5 tr.73 - Tu\n",
    "class Triple:\n",
    "    def __init__(self,a,b,c):\n",
    "        self.a=a\n",
    "        self.b=b\n",
    "        self.c=c\n",
    "        self.S=a+b+c\n",
    "   \n",
    "    def Change(self,a,b,c):\n",
    "        self.a=a\n",
    "        self.b=b\n",
    "        self.c=c\n",
    "        self.S= a+b+c\n",
    "        return self.S\n",
    "    def isTriange(self):\n",
    "        return ((self.a+self.b>self.c) and (self.a+self.c>self.b) and (self.b+self.c>self.a))\n",
    "    def __str__(self): \n",
    "        return str(self.a)+\"+\"+str(self.b)+\"+\"+str(self.c)+\"=\"+str(self.S)\n",
    "p=Triple(3,4,5)\n",
    "print(str(p))\n",
    "p.isTriange()\n",
    "print(\"S Cap Nhat\",p.Change(4,5,6))"
   ]
  },
  {
   "cell_type": "code",
   "execution_count": 42,
   "id": "e7438214",
   "metadata": {},
   "outputs": [
    {
     "name": "stdout",
     "output_type": "stream",
     "text": [
      "True\n"
     ]
    }
   ],
   "source": [
    "# Bai 13 tr.74 - Minh Quan - thai hoa\n",
    "import math\n",
    "class Circle:\n",
    "    def __init__(self, r, x, y):\n",
    "        self.r=r\n",
    "        self.x=x\n",
    "        self.y=y\n",
    "    def chuvi(self):\n",
    "        return round(self.r*2*math.pi)\n",
    "    def dientich(self):\n",
    "        return round(self.r*self.r*math.pi)\n",
    "    \n",
    "    # _ne_() khac\n",
    "    def __ne__(self,ob2):\n",
    "        if self.r != ob2.r:\n",
    "            return True\n",
    "        return False\n",
    "    # __ge__() lon hon hoac bang\n",
    "    def __ge__(self,ob2):\n",
    "        if self.r >= ob2.r:\n",
    "            return True\n",
    "        return False\n",
    "    # KhoangCach()\n",
    "    def khoangCach(self,ob2):\n",
    "        return math.sqrt(((self.x-ob2.x)**2+(self.y-ob2.y)**2))\n",
    "    # Giao()\n",
    "    def giao(self,ob2):\n",
    "        kc = self.khoangCach(ob2)\n",
    "        if kc<=self.r+ob2.r:\n",
    "            return True\n",
    "        return False\n",
    "\n",
    "o1 = Circle(2,0,0)\n",
    "o2 = Circle(3,1,1)\n",
    "print(o1.giao(o2))\n",
    "        "
   ]
  },
  {
   "cell_type": "code",
   "execution_count": 20,
   "id": "4449e5b9",
   "metadata": {},
   "outputs": [
    {
     "name": "stdout",
     "output_type": "stream",
     "text": [
      "37.69911184307752 12.566370614359172\n",
      "37.69911184307752\n"
     ]
    }
   ],
   "source": [
    "# Bài tập 1 - Van Dat\n",
    "import math\n",
    "class HinhTron():\n",
    "    def __init__(self, R = 1):\n",
    "        self.R = R\n",
    "    def __str__(self):\n",
    "        return \"hinh tron ban kinh {0}\".format(self.R)\n",
    "    def DienTich(self):\n",
    "        return math.pi * self.R**2\n",
    "class HinhTru(HinhTron):\n",
    "    def __init__(self, R = 1, H = 2):\n",
    "        super().__init__(R)\n",
    "        self.H = H\n",
    "    def DienTich(self):\n",
    "#         super().DienTich()\n",
    "        return 2 * math.pi * self.R * self.H\n",
    "    def TheTich(self):\n",
    "        return HinhTron.DienTich(self) * self.H\n",
    "h1 = HinhTru(2,3)\n",
    "h2 = HinhTron(2)\n",
    "print(h1.DienTich(), h2.DienTich())\n",
    "print(h1.TheTich())"
   ]
  },
  {
   "cell_type": "code",
   "execution_count": 30,
   "id": "a1806467",
   "metadata": {},
   "outputs": [
    {
     "data": {
      "text/plain": [
       "25"
      ]
     },
     "execution_count": 30,
     "metadata": {},
     "output_type": "execute_result"
    }
   ],
   "source": [
    "# Bai tap 2 - Minh Quan\n",
    "import math as m\n",
    "class Shape:\n",
    "    def __init__(self, color='red'):\n",
    "        self.color=color\n",
    "    def __str__(self):\n",
    "        return 'Shape color = {}'.format(self.color)\n",
    "    def __repr__(self):\n",
    "        return 'Shape(' + self.color + ')'\n",
    "class Circle(Shape):\n",
    "    def __init__(self, radius=1.0):\n",
    "        super.__init__()\n",
    "        self.radius=radius\n",
    "    def __str__(self):\n",
    "        return 'Circle color={}, radius={}'.format(self.color, self.radius)\n",
    "    def __repr__(self):\n",
    "        return 'Circle(' + self.color + str(self.radius) + ')'\n",
    "    def get_area(self):\n",
    "        return m.pi*self.radius**2\n",
    "class Rectangle(Shape):\n",
    "    def __init__(self, length=1.0, width=1.0):\n",
    "        super().__init__()\n",
    "        self.length=length\n",
    "        self.width=width\n",
    "    def __str__(self):\n",
    "        return 'Rectangle color={}, length={}, width={}'.formath(self.color, self.length, self.width)\n",
    "    def __repr__(self):\n",
    "        return 'Rectangle(' + self.color + str(self.length) + str(self.width) + ')'\n",
    "    def get_area(self):\n",
    "        return self.length*self.width\n",
    "class Square(Rectangle):\n",
    "    def __init__(self,length=1.0):\n",
    "        super().__init__(length,length)\n",
    "    def __str__(self):\n",
    "        return 'Square color={}, length={}'.formath(self.color, self.length)\n",
    "    def __repr__(self):\n",
    "        return 'Square(' + self.color +','+ str(self.length) + ')'\n",
    "\n",
    "s=Square(5)\n",
    "s.get_area()"
   ]
  },
  {
   "cell_type": "code",
   "execution_count": 47,
   "id": "6ca9c4b7",
   "metadata": {},
   "outputs": [
    {
     "name": "stdout",
     "output_type": "stream",
     "text": [
      "4.14578098794425\n"
     ]
    }
   ],
   "source": [
    "# Bai 6 tr.74 - Hoan My\n",
    "import math\n",
    "class Tamgiac(Triple):\n",
    "    def __init__(self, a, b, c):\n",
    "        super().__init__(a, b, c)\n",
    "        if Triple.isTriange(self) == False:\n",
    "            raise ValueError('Ko phai 3 canh tam giac')\n",
    "        self.p = self.S/2\n",
    "    def dien_tich(self):\n",
    "        return math.sqrt(self.p * (self.p - self.a) * (self.p - self.b) * (self.p - self.c))\n",
    "    def R_noi(self):\n",
    "        return self.dien_tich()/self.p\n",
    "    def R_ngoai(self):\n",
    "        return (self.a * self.b * self.c) / (4*self.dien_tich())\n",
    "    \n",
    "t1 = Tamgiac(3, 4, 5)\n",
    "t2 = Tamgiac(3, 3, 5)\n",
    "print(t2.dien_tich())\n",
    "# print(t1.dien_tich())\n",
    "# print(t1.R_noi())\n",
    "# print(t1.R_ngoai())"
   ]
  },
  {
   "cell_type": "code",
   "execution_count": 10,
   "id": "590c02b5",
   "metadata": {},
   "outputs": [
    {
     "name": "stdout",
     "output_type": "stream",
     "text": [
      "9\n",
      "3.897114317029974\n"
     ]
    }
   ],
   "source": [
    "# Bai 9 tr.74 - Thanh AN\n",
    "import math\n",
    "class Tam_giac():\n",
    "    def __init__(self, a = 3, b = 4, c = 5):\n",
    "        self.a = a\n",
    "        self.b = b\n",
    "        self.c = c\n",
    "    def Cv(self):\n",
    "        return self.a + self.b + self.c\n",
    "    def Dt(self):\n",
    "        p = self.Cv()/2\n",
    "        return math.sqrt(p * (p - self.a) * (p - self.b) * (p - self.c))\n",
    "\n",
    "class Tam_giac_can(Tam_giac):\n",
    "    def __init__(self, a = 2, b = 3):\n",
    "        super().__init__(a, a, b)\n",
    "        \n",
    "class Tam_giac_deu(Tam_giac_can):\n",
    "    def __init__(self, a = 3):\n",
    "        super().__init__(a, a)\n",
    "# v1 = Tam_giac()\n",
    "# v2 = Tam_giac_can()\n",
    "v3 = Tam_giac_deu(3)\n",
    "# print(v1.Cv())\n",
    "# print(v1.Dt())\n",
    "# print(v2.Cv())\n",
    "# print(v2.Dt())\n",
    "print(v3.Cv())\n",
    "print(v3.Dt())"
   ]
  },
  {
   "cell_type": "code",
   "execution_count": null,
   "id": "5652a669",
   "metadata": {},
   "outputs": [],
   "source": []
  }
 ],
 "metadata": {
  "kernelspec": {
   "display_name": "Python 3 (ipykernel)",
   "language": "python",
   "name": "python3"
  },
  "language_info": {
   "codemirror_mode": {
    "name": "ipython",
    "version": 3
   },
   "file_extension": ".py",
   "mimetype": "text/x-python",
   "name": "python",
   "nbconvert_exporter": "python",
   "pygments_lexer": "ipython3",
   "version": "3.9.7"
  }
 },
 "nbformat": 4,
 "nbformat_minor": 5
}
