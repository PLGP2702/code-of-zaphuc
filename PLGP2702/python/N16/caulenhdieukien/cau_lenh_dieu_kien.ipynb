{
 "cells": [
  {
   "cell_type": "code",
   "execution_count": 34,
   "metadata": {},
   "outputs": [
    {
     "data": {
      "text/plain": [
       "'Thcs Hung Vuong'"
      ]
     },
     "execution_count": 34,
     "metadata": {},
     "output_type": "execute_result"
    }
   ],
   "source": [
    "class Hocsinh:\n",
    "    name = str(input(\"Nhap ten hs1: \"))\n",
    "    age = 14\n",
    "    gender = 1\n",
    "    school = \"Thcs Hung Vuong\"\n",
    "hs0 = Hocsinh()\n",
    "hs0.school\n"
   ]
  },
  {
   "cell_type": "code",
   "execution_count": 30,
   "metadata": {},
   "outputs": [],
   "source": [
    "class BanGhe:\n",
    "    height = 60\n",
    "    width =100\n",
    "    lenght =180\n",
    "    color = \"Red\"\n",
    "    x = 0\n",
    "    y = 0\n",
    "    def change(self,x,y):\n",
    "        self.x = x \n",
    "        self.y = y\n",
    "    def changecoor(self,color):\n",
    "        self.color = color\n",
    "    def changedim(self,height,width,lenght):\n",
    "        self.height = height\n",
    "        self.width = width\n",
    "        self.lenght =lenght\n",
    "        "
   ]
  },
  {
   "cell_type": "code",
   "execution_count": 57,
   "metadata": {},
   "outputs": [
    {
     "name": "stdout",
     "output_type": "stream",
     "text": [
      "Phan Le Gia Phuc\n",
      "53/1 Pham Thi Lien\n",
      "1M67\n",
      "61kg\n",
      "Xuat Sac\n",
      "================\n",
      "Tran Van Minh Nhat\n",
      "74 Ton That Hiep\n",
      "1M68\n",
      "55kg\n",
      "Tren ca Xuat Sac\n",
      "================\n"
     ]
    }
   ],
   "source": [
    "#bai 4 tr73\n",
    "class Hocsinh():\n",
    "    # name = 'Phan Le Gia Phuc'\n",
    "    # address = '53/1 Pham Thi Lien'\n",
    "    # height = '1m67'\n",
    "    # weight = '61kg'\n",
    "    # classification = 'Gioi'\n",
    "    \n",
    "    def __student__(self,name,address,height,weight,classification):\n",
    "        self.name = name\n",
    "        self.address = address\n",
    "        self.height = height\n",
    "        self.weight = weight\n",
    "        self.classification = classification\n",
    "    def updateaddress(self, address):\n",
    "        self.address = address\n",
    "    def update_height_and_weight(self,height,weight):\n",
    "        self.height = height\n",
    "        self.weight = weight\n",
    "    def updateclassification(self,classification):\n",
    "        self.classification = classification\n",
    "    # def show(self):\n",
    "    #     print('name = ', self.name)\n",
    "    #     print('address = ', self.address)\n",
    "    #     print('height = ', self.height)\n",
    "    #     print('weight = ', self.weight)\n",
    "    #     print('Xep loai = ', self.classification)\n",
    "    def __str__(self):\n",
    "        return self.name+\"\\n\"+self.address+\"\\n\"+self.height+\"\\n\"+self.weight+\"\\n\"+self.classification+\"\\n================\"\n",
    "hs1 = Hocsinh()\n",
    "hs1.name = \"Phan Le Gia Phuc\"\n",
    "hs1.address = \"53/1 Pham Thi Lien\"\n",
    "hs1.height = \"1M67\"\n",
    "hs1.weight = \"61kg\"\n",
    "hs1.classification = \"Xuat Sac\"\n",
    "hs2 = Hocsinh()\n",
    "hs2.name = \"Tran Van Minh Nhat\"\n",
    "hs2.address = \"74 Ton That Hiep\"\n",
    "hs2.height = \"1M68\"\n",
    "hs2.weight = \"55kg\"\n",
    "hs2.classification = \"Tren ca Xuat Sac\"\n",
    "print(hs1)\n",
    "print(hs2)"
   ]
  },
  {
   "cell_type": "code",
   "execution_count": 50,
   "metadata": {},
   "outputs": [],
   "source": [
    "#bai 5 tr 73\n",
    "class Triple():\n",
    "    def __init__(self, name , a , b , c):\n",
    "        self.name = name\n",
    "        self.a = a \n",
    "        self.b = b\n",
    "        self.c = c\n",
    "    def Sum(self):\n",
    "        S = self.a + self.b + self.c\n",
    "    def change(self, a , b , c):\n",
    "        self.a = a \n",
    "        self.b = b\n",
    "        self.c = c\n",
    "        return\n",
    "    def update(self, S):\n",
    "        self.S = S\n",
    "    def isTriple(self):\n",
    "        if(self.a + self.b) > self.c or (self.a + self.c) > self.b or (self.b + self.c) > self.a:\n",
    "            print('La tam giac')\n",
    "        else:\n",
    "            print('not')\n",
    "         \n",
    "        \n",
    "    "
   ]
  }
 ],
 "metadata": {
  "kernelspec": {
   "display_name": "Python 3.10.5 64-bit",
   "language": "python",
   "name": "python3"
  },
  "language_info": {
   "codemirror_mode": {
    "name": "ipython",
    "version": 3
   },
   "file_extension": ".py",
   "mimetype": "text/x-python",
   "name": "python",
   "nbconvert_exporter": "python",
   "pygments_lexer": "ipython3",
   "version": "3.10.5"
  },
  "orig_nbformat": 4,
  "vscode": {
   "interpreter": {
    "hash": "281f676dbe7bf7e07953c9233552a4b4535e36268e93b318725eb696c7a0729f"
   }
  }
 },
 "nbformat": 4,
 "nbformat_minor": 2
}
