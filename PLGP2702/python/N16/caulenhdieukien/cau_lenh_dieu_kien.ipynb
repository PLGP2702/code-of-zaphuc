{
 "cells": [
  {
   "cell_type": "code",
   "execution_count": 34,
   "metadata": {},
   "outputs": [
    {
     "data": {
      "text/plain": [
       "'Thcs Hung Vuong'"
      ]
     },
     "execution_count": 34,
     "metadata": {},
     "output_type": "execute_result"
    }
   ],
   "source": [
    "class Hocsinh:\n",
    "    name = str(input(\"Nhap ten hs1: \"))\n",
    "    age = 14\n",
    "    gender = 1\n",
    "    school = \"Thcs Hung Vuong\"\n",
    "hs0 = Hocsinh()\n",
    "hs0.school\n"
   ]
  },
  {
   "cell_type": "code",
   "execution_count": 30,
   "metadata": {},
   "outputs": [],
   "source": [
    "class BanGhe:\n",
    "    height = 60\n",
    "    width =100\n",
    "    lenght =180\n",
    "    color = \"Red\"\n",
    "    x = 0\n",
    "    y = 0\n",
    "    def change(self,x,y):\n",
    "        self.x = x \n",
    "        self.y = y\n",
    "    def changecoor(self,color):\n",
    "        self.color = color\n",
    "    def changedim(self,height,width,lenght):\n",
    "        self.height = height\n",
    "        self.width = width\n",
    "        self.lenght =lenght\n",
    "        "
   ]
  },
  {
   "cell_type": "code",
   "execution_count": 57,
   "metadata": {},
   "outputs": [
    {
     "name": "stdout",
     "output_type": "stream",
     "text": [
      "Phan Le Gia Phuc\n",
      "53/1 Pham Thi Lien\n",
      "1M67\n",
      "61kg\n",
      "Xuat Sac\n",
      "================\n",
      "Tran Van Minh Nhat\n",
      "74 Ton That Hiep\n",
      "1M68\n",
      "55kg\n",
      "Tren ca Xuat Sac\n",
      "================\n"
     ]
    }
   ],
   "source": [
    "#bai 4 tr73\n",
    "class Hocsinh():\n",
    "    # name = 'Phan Le Gia Phuc'\n",
    "    # address = '53/1 Pham Thi Lien'\n",
    "    # height = '1m67'\n",
    "    # weight = '61kg'\n",
    "    # classification = 'Gioi'\n",
    "    \n",
    "    def __student__(self,name,address,height,weight,classification):\n",
    "        self.name = name\n",
    "        self.address = address\n",
    "        self.height = height\n",
    "        self.weight = weight\n",
    "        self.classification = classification\n",
    "    def updateaddress(self, address):\n",
    "        self.address = address\n",
    "    def update_height_and_weight(self,height,weight):\n",
    "        self.height = height\n",
    "        self.weight = weight\n",
    "    def updateclassification(self,classification):\n",
    "        self.classification = classification\n",
    "    # def show(self):\n",
    "    #     print('name = ', self.name)\n",
    "    #     print('address = ', self.address)\n",
    "    #     print('height = ', self.height)\n",
    "    #     print('weight = ', self.weight)\n",
    "    #     print('Xep loai = ', self.classification)\n",
    "    def __str__(self):\n",
    "        return self.name+\"\\n\"+self.address+\"\\n\"+self.height+\"\\n\"+self.weight+\"\\n\"+self.classification+\"\\n================\"\n",
    "hs1 = Hocsinh()\n",
    "hs1.name = \"Phan Le Gia Phuc\"\n",
    "hs1.address = \"53/1 Pham Thi Lien\"\n",
    "hs1.height = \"1M67\"\n",
    "hs1.weight = \"61kg\"\n",
    "hs1.classification = \"Xuat Sac\"\n",
    "hs2 = Hocsinh()\n",
    "hs2.name = \"Tran Van Minh Nhat\"\n",
    "hs2.address = \"74 Ton That Hiep\"\n",
    "hs2.height = \"1M68\"\n",
    "hs2.weight = \"55kg\"\n",
    "hs2.classification = \"Tren ca Xuat Sac\"\n",
    "print(hs1)\n",
    "print(hs2)"
   ]
  },
  {
   "cell_type": "code",
   "execution_count": 22,
   "metadata": {},
   "outputs": [
    {
     "name": "stdout",
     "output_type": "stream",
     "text": [
      "Tam giac: 9 10 11\n",
      "La tam giac\n",
      "30\n"
     ]
    }
   ],
   "source": [
    "#bai 5 tr 73\n",
    "class Triple:\n",
    "    def __init__(self, name , a , b , c):\n",
    "        self.name = name\n",
    "        self.a = a \n",
    "        self.b = b\n",
    "        self.c = c\n",
    "    def Sum(self):\n",
    "        S = self.a + self.b + self.c\n",
    "        return S\n",
    "    def change(self, a , b , c):\n",
    "        self.a = a \n",
    "        self.b = b\n",
    "        self.c = c\n",
    "    def update(self, S):\n",
    "        self.S = S\n",
    "        return S\n",
    "    def isTriple(self):\n",
    "        if(self.a + self.b) > self.c or (self.a + self.c) > self.b or (self.b + self.c) > self.a:\n",
    "            print(\"La tam giac\")\n",
    "        else:\n",
    "            print(\"khong la tam giac\")\n",
    "tg1 = Triple(\"Tam giac:\", 6, 4 ,5)\n",
    "tg1.change(9, 10 , 11)\n",
    "print(tg1.name, tg1.a, tg1.b, tg1.c)\n",
    "tg1.isTriple()\n",
    "print(tg1.update(tg1.Sum()))"
   ]
  },
  {
   "cell_type": "code",
   "execution_count": 23,
   "metadata": {},
   "outputs": [
    {
     "name": "stdout",
     "output_type": "stream",
     "text": [
      "Area:  9.5\n",
      "Radius:  26.05\n",
      "Outreach:  2.83\n"
     ]
    }
   ],
   "source": [
    "class Triangle(Triple):\n",
    "    def Area(self):\n",
    "        h = (self.a + self.b) / self.c\n",
    "        A = (self.c * h) / 2\n",
    "        return A\n",
    "    def Radius(self):\n",
    "        R1 = (self.a * self.b * self.c) / (4*self.Area())\n",
    "        return R1\n",
    "    def Outreach(self):\n",
    "        import math\n",
    "        p = (self.a + self.b + self.c) / 2\n",
    "        R2 = math.sqrt(((p - self.a)*(p - self.b) * (p - self.c)) / p)     \n",
    "        return R2\n",
    "tg1 = Triangle(\"Tam Giac\", 9, 10, 11)\n",
    "print(\"Area: \", tg1.Area())\n",
    "print(\"Radius: \", \"{:.2f}\".format(tg1.Radius()))\n",
    "print(\"Outreach: \", \"{:0.2f}\".format(tg1.Outreach()))\n",
    "    "
   ]
  },
  {
   "cell_type": "code",
   "execution_count": null,
   "metadata": {},
   "outputs": [],
   "source": []
  }
 ],
 "metadata": {
  "kernelspec": {
   "display_name": "Python 3.10.5 64-bit",
   "language": "python",
   "name": "python3"
  },
  "language_info": {
   "codemirror_mode": {
    "name": "ipython",
    "version": 3
   },
   "file_extension": ".py",
   "mimetype": "text/x-python",
   "name": "python",
   "nbconvert_exporter": "python",
   "pygments_lexer": "ipython3",
   "version": "3.10.5"
  },
  "orig_nbformat": 4,
  "vscode": {
   "interpreter": {
    "hash": "281f676dbe7bf7e07953c9233552a4b4535e36268e93b318725eb696c7a0729f"
   }
  }
 },
 "nbformat": 4,
 "nbformat_minor": 2
}
