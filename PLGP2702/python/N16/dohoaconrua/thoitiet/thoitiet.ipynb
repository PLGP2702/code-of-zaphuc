{
 "cells": [
  {
   "cell_type": "code",
   "execution_count": 1,
   "metadata": {},
   "outputs": [
    {
     "ename": "SyntaxError",
     "evalue": "invalid syntax (380954818.py, line 8)",
     "output_type": "error",
     "traceback": [
      "\u001b[1;36m  Input \u001b[1;32mIn [1]\u001b[1;36m\u001b[0m\n\u001b[1;33m    df.loc[df.Nhiet do]\u001b[0m\n\u001b[1;37m                    ^\u001b[0m\n\u001b[1;31mSyntaxError\u001b[0m\u001b[1;31m:\u001b[0m invalid syntax\n"
     ]
    }
   ],
   "source": [
    "import pandas as pd \n",
    "import matplotlib.pyplot as plt\n",
    "import numpy as np\n",
    "df = pd.read_csv('ThoiTietHue_2016_2021.csv')\n",
    "\n",
    "list(df.columns)\n",
    "df.describe()\n",
    "df.loc[df.Nhiet do]\n"
   ]
  },
  {
   "cell_type": "code",
   "execution_count": 1,
   "metadata": {},
   "outputs": [
    {
     "name": "stdout",
     "output_type": "stream",
     "text": [
      "            Ngay  Nhiet do  Nang   Mua\n",
      "0     01/01/2016      20.2   4.5   2.8\n",
      "1     02/01/2016      19.9   0.0   2.1\n",
      "2     03/01/2016      21.3   0.0   5.1\n",
      "3     04/01/2016      23.0   1.5   0.2\n",
      "4     05/01/2016      23.0   1.5   0.1\n",
      "...          ...       ...   ...   ...\n",
      "2187  27/12/2021      20.4   0.0  77.3\n",
      "2188  28/12/2021      18.8   0.0  32.4\n",
      "2189  29/12/2021      19.0   0.0  16.7\n",
      "2190  30/12/2021      20.8   0.9   4.7\n",
      "2191  31/12/2021      20.8   1.0   0.5\n",
      "\n",
      "[2192 rows x 4 columns]\n"
     ]
    }
   ],
   "source": [
    "import pandas as pd\n",
    "pf = pd.read_csv('ThoiTietHue_2016_2021.csv')\n",
    "print(pf)"
   ]
  },
  {
   "cell_type": "code",
   "execution_count": 15,
   "metadata": {},
   "outputs": [
    {
     "data": {
      "image/png": "[encoded data removed]",
      "text/plain": [
       "<Figure size 432x288 with 1 Axes>"
      ]
     },
     "metadata": {
      "needs_background": "light"
     },
     "output_type": "display_data"
    },
    {
     "name": "stdout",
     "output_type": "stream",
     "text": [
      "            Ngay  Nhiet do  Nang   Mua\n",
      "0     01/01/2016      20.2   4.5   2.8\n",
      "1     02/01/2016      19.9   0.0   2.1\n",
      "2     03/01/2016      21.3   0.0   5.1\n",
      "3     04/01/2016      23.0   1.5   0.2\n",
      "4     05/01/2016      23.0   1.5   0.1\n",
      "...          ...       ...   ...   ...\n",
      "2187  27/12/2021      20.4   0.0  77.3\n",
      "2188  28/12/2021      18.8   0.0  32.4\n",
      "2189  29/12/2021      19.0   0.0  16.7\n",
      "2190  30/12/2021      20.8   0.9   4.7\n",
      "2191  31/12/2021      20.8   1.0   0.5\n",
      "\n",
      "[2192 rows x 4 columns]\n"
     ]
    }
   ],
   "source": [
    "import pandas as pd \n",
    "import numpy as np\n",
    "import matplotlib.pyplot as plt\n",
    "\n",
    "pf = pd.read_csv('ThoiTietHue_2016_2021.csv')\n",
    "xpoints = np.array(pf[\"Ngay\"])\n",
    "ypointsNhietDo = np.array(pf[\"Nhiet do\"])\n",
    "ypointsNang = np.array(pf[\"Nang\"])\n",
    "ypointsLuongMua = np.array(pf[\"Mua\"])\n",
    "plt.plot(xpoints, ypointsNhietDo , marker = '.', color = 'red')\n",
    "plt.plot(xpoints, ypointsNang , marker = '.', color = 'green')\n",
    "plt.plot(xpoints, ypointsLuongMua , marker = '.', color = 'blue')\n",
    "plt.show()\n",
    "print(pf)\n"
   ]
  },
  {
   "cell_type": "code",
   "execution_count": null,
   "metadata": {},
   "outputs": [],
   "source": [
    "Nhietdo = pf['Nhiet do']"
   ]
  }
 ],
 "metadata": {
  "kernelspec": {
   "display_name": "Python 3.9.12 ('base')",
   "language": "python",
   "name": "python3"
  },
  "language_info": {
   "codemirror_mode": {
    "name": "ipython",
    "version": 3
   },
   "file_extension": ".py",
   "mimetype": "text/x-python",
   "name": "python",
   "nbconvert_exporter": "python",
   "pygments_lexer": "ipython3",
   "version": "3.9.12"
  },
  "orig_nbformat": 4,
  "vscode": {
   "interpreter": {
    "hash": "7758e92e9a61d7a3490898707f7eeb937c85e9d1e8d4e877cc6c187218f226d5"
   }
  }
 },
 "nbformat": 4,
 "nbformat_minor": 2
}
