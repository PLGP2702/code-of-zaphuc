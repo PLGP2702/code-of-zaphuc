{
 "cells": [
  {
   "cell_type": "code",
   "execution_count": 7,
   "id": "8d8ac2e7",
   "metadata": {
    "scrolled": false
   },
   "outputs": [
    {
     "name": "stdout",
     "output_type": "stream",
     "text": [
      "Nhap vao n:15\n",
      "[1, 3, 5]\n"
     ]
    }
   ],
   "source": [
    "# Bai 8 tr.86 - Thanh Nhat\n",
    "n = int(input(\"Nhap vao n:\"))\n",
    "mylist = []\n",
    "for i in range(1,n):\n",
    "    if n%i == 0:\n",
    "        mylist.append(i)\n",
    "print(mylist)"
   ]
  },
  {
   "cell_type": "code",
   "execution_count": 11,
   "id": "93a19dd5",
   "metadata": {},
   "outputs": [
    {
     "name": "stdout",
     "output_type": "stream",
     "text": [
      "Nhap n: 10\n",
      "1\n",
      "2\n",
      "5\n",
      "6\n",
      "11\n",
      "13\n",
      "6\n",
      "18\n",
      "17\n",
      "20\n",
      "[2, 5, 11, 13, 17]\n"
     ]
    }
   ],
   "source": [
    "# Bai 10 - Thanh An\n",
    "import math\n",
    "def checkSNT(x):\n",
    "    if x < 2:\n",
    "        return False\n",
    "    else:\n",
    "        i = 2\n",
    "        if i <= math.sqrt(x):\n",
    "            if x % i == 0:\n",
    "                return False\n",
    "        else:\n",
    "            i += 1\n",
    "    return True\n",
    "n = int(input(\"Nhap n: \"))\n",
    "lst = []\n",
    "lst2 = []\n",
    "for i in range(n):\n",
    "    x = int(input())\n",
    "    lst.append(x)\n",
    "for i in lst:\n",
    "    if checkSNT(i) == True:\n",
    "        lst2.append(i)\n",
    "print(lst2)\n"
   ]
  },
  {
   "cell_type": "code",
   "execution_count": 16,
   "id": "489755df",
   "metadata": {},
   "outputs": [
    {
     "name": "stdout",
     "output_type": "stream",
     "text": [
      "Nhap so luong phan tu: 4\n",
      "Nhap gia tri phan tu: 1\n",
      "Nhap gia tri phan tu: 2\n",
      "Nhap gia tri phan tu: 3\n",
      "Nhap gia tri phan tu: 4\n",
      "10\n"
     ]
    }
   ],
   "source": [
    "# Bai 11- Van Hieu\n",
    "a=int(input(\"Nhap so luong phan tu: \"))\n",
    "lst= []\n",
    "for i in range(a):\n",
    "    lst.append(int(input(\"Nhap gia tri phan tu: \")))\n",
    "cnt=0\n",
    "for i in lst:\n",
    "    cnt += i\n",
    "print(cnt)"
   ]
  },
  {
   "cell_type": "code",
   "execution_count": 23,
   "id": "fb302eb2",
   "metadata": {},
   "outputs": [
    {
     "name": "stdout",
     "output_type": "stream",
     "text": [
      "[0, 1, 2, 3, 4, 5, 6, 7, 8, 10, 13, 16, 17]\n"
     ]
    }
   ],
   "source": [
    "# Bai 13\n",
    "A = [0,2,4,6,8,10, 13, 16, 17]\n",
    "B = [1,3,5,7]\n",
    "C = []\n",
    "na = len(A)\n",
    "nb = len(B)\n",
    "if na <= nb:\n",
    "    n1 = na\n",
    "else:\n",
    "    n1 = nb\n",
    "for i in range(n1):\n",
    "    C.append(A[i])\n",
    "    C.append(B[i])\n",
    "if na < nb:\n",
    "    C += B[n1:]\n",
    "elif na > nb:\n",
    "    C += A[n1:]\n",
    "print(C)"
   ]
  },
  {
   "cell_type": "code",
   "execution_count": 20,
   "id": "75b39abe",
   "metadata": {},
   "outputs": [
    {
     "name": "stdout",
     "output_type": "stream",
     "text": [
      "[1.2, 0, 15, 1, 50, 4.56]\n"
     ]
    }
   ],
   "source": [
    "# Bai 14 - Duy Anh\n",
    "A = [1.2, \"one\", 0, 15, \"A\", \"B\", \"C\", 1, 50, 4.56, \"C\"]\n",
    "n = len(A)\n",
    "B = []\n",
    "for i in range(n):\n",
    "    if(type(A[i]) == float or type(A[i]) == int):\n",
    "        B.append(A[i])\n",
    "print(B)"
   ]
  },
  {
   "cell_type": "code",
   "execution_count": 7,
   "id": "7f3bb1f1",
   "metadata": {},
   "outputs": [
    {
     "name": "stdout",
     "output_type": "stream",
     "text": [
      "Nhap n: 12\n",
      "[1, 3, 5, 7, 9, 11]\n",
      "[2, 4, 6, 8, 10]\n"
     ]
    }
   ],
   "source": [
    "# Bai 16 - Hoàn Mỹ \n",
    "n = int(input(\"Nhap n: \"))\n",
    "A = list(range(1, n, 2))\n",
    "B = list(range(2, n, 2))\n",
    "print(A)\n",
    "print(B)"
   ]
  },
  {
   "cell_type": "code",
   "execution_count": 29,
   "id": "50bd289e",
   "metadata": {},
   "outputs": [
    {
     "name": "stdout",
     "output_type": "stream",
     "text": [
      "[3, 6, 9, 4, 5]\n",
      "--------\n",
      "[11, 22, 3, 4, 5]\n"
     ]
    }
   ],
   "source": [
    "# Bai 17- hung\n",
    "def name(Lst1, Lst2):\n",
    "    ans =[]\n",
    "    l1 = len(Lst1)\n",
    "    l2 = len(Lst2)\n",
    "    if l1 <= l2:\n",
    "        for i in range(l1):\n",
    "            ans.append(Lst1[i] + Lst2[i])\n",
    "        ans += Lst2[l1:]\n",
    "    else:\n",
    "        for i in range(l2):\n",
    "            ans.append(Lst1[i] + Lst2[i])\n",
    "        ans += Lst1[l2:]\n",
    "    return ans\n",
    "\n",
    "A = [2,4,6]\n",
    "B = [1,2,3,4,5]\n",
    "print(name(A,B))\n",
    "print(\"--------\")\n",
    "C = [10,20]\n",
    "print(name(B,C))\n"
   ]
  },
  {
   "cell_type": "code",
   "execution_count": 32,
   "id": "c0bd4756",
   "metadata": {},
   "outputs": [
    {
     "name": "stdout",
     "output_type": "stream",
     "text": [
      "([4.2, 2, 3], ['an', 'binh', '0h'])\n"
     ]
    }
   ],
   "source": [
    "# Bai 18\n",
    "def solve(list):\n",
    "    list_number = []\n",
    "    list_string = []\n",
    "    n = len(list)\n",
    "    for i in range(0, n):\n",
    "        if type(list[i]) is int or type(list[i]) is float:\n",
    "            list_number.append(list[i])\n",
    "        elif(type(list[i]) is str):\n",
    "            list_string.append(str(list[i]))\n",
    "    return list_number, list_string\n",
    "\n",
    "list = [4.2, 'an', 2, 'binh', 3, '0h']\n",
    "print(solve(list))\n"
   ]
  },
  {
   "cell_type": "code",
   "execution_count": 37,
   "id": "ba48ac77",
   "metadata": {},
   "outputs": [
    {
     "name": "stdout",
     "output_type": "stream",
     "text": [
      "[0, 0.5, 1, 3, 5]\n"
     ]
    }
   ],
   "source": [
    " # Bai 19 - Hoa\n",
    "def sort(A):\n",
    "    for i in range(len(A)-1):\n",
    "        for j in range(i + 1,len(A)):\n",
    "            if A[i] > A[j]:\n",
    "                A[i],A[j] = A[j],A[i]\n",
    "    return A\n",
    "A = [1,0.5,0,5,3]\n",
    "B = sort(A)\n",
    "print(B)"
   ]
  },
  {
   "cell_type": "code",
   "execution_count": 13,
   "id": "bf958554",
   "metadata": {},
   "outputs": [],
   "source": [
    "# Bai 20\n"
   ]
  },
  {
   "cell_type": "code",
   "execution_count": null,
   "id": "cda79936",
   "metadata": {},
   "outputs": [],
   "source": [
    "# Bai 21\n"
   ]
  },
  {
   "cell_type": "code",
   "execution_count": null,
   "id": "376ab5fb",
   "metadata": {},
   "outputs": [],
   "source": [
    "# Bai 22\n"
   ]
  },
  {
   "cell_type": "code",
   "execution_count": null,
   "id": "d3142772",
   "metadata": {},
   "outputs": [],
   "source": [
    "# Bai 23\n"
   ]
  },
  {
   "cell_type": "code",
   "execution_count": null,
   "id": "89dc4a3d",
   "metadata": {},
   "outputs": [],
   "source": [
    "# Bai 24\n"
   ]
  },
  {
   "cell_type": "code",
   "execution_count": null,
   "id": "1ac2b4ea",
   "metadata": {},
   "outputs": [],
   "source": [
    "# Bai 25\n"
   ]
  },
  {
   "cell_type": "code",
   "execution_count": null,
   "id": "87797f3f",
   "metadata": {},
   "outputs": [],
   "source": [
    "# Bai 27\n"
   ]
  },
  {
   "cell_type": "code",
   "execution_count": null,
   "id": "ee47a9fa",
   "metadata": {},
   "outputs": [],
   "source": [
    "# Bai 28\n"
   ]
  }
 ],
 "metadata": {
  "kernelspec": {
   "display_name": "Python 3 (ipykernel)",
   "language": "python",
   "name": "python3"
  },
  "language_info": {
   "codemirror_mode": {
    "name": "ipython",
    "version": 3
   },
   "file_extension": ".py",
   "mimetype": "text/x-python",
   "name": "python",
   "nbconvert_exporter": "python",
   "pygments_lexer": "ipython3",
   "version": "3.9.7"
  }
 },
 "nbformat": 4,
 "nbformat_minor": 5
}
