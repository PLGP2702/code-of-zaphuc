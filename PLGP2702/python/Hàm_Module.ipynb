{
 "cells": [
  {
   "cell_type": "code",
   "execution_count": 3,
   "id": "700a91dd",
   "metadata": {},
   "outputs": [
    {
     "name": "stdout",
     "output_type": "stream",
     "text": [
      "6\n",
      "32\n",
      "25\n"
     ]
    }
   ],
   "source": [
    "# Bai 3 tr. 60\n",
    "#Duong Duy Khanh\n",
    "f1 = lambda x,y,z: x+y+z\n",
    "print(f1(1,2,3))\n",
    "f2 = lambda x,y,z: x**(y+z)\n",
    "print(f2(2,2,3))\n",
    "f3= lambda x,y: (x+y)**2\n",
    "print(f3(2,3))"
   ]
  },
  {
   "cell_type": "code",
   "execution_count": 10,
   "id": "1413c52f",
   "metadata": {},
   "outputs": [
    {
     "name": "stdout",
     "output_type": "stream",
     "text": [
      "5\n",
      "13\n",
      "1\n"
     ]
    }
   ],
   "source": [
    "# Bai 4 tr.60\n",
    "#a.hung\n",
    "def f_a(n):\n",
    "    ans = 0\n",
    "    for i in range(1,n):\n",
    "        if n % i == 0:\n",
    "            ans += 1\n",
    "    return ans\n",
    "print(f_a(20))\n"
   ]
  },
  {
   "cell_type": "code",
   "execution_count": 4,
   "id": "9dc0680b",
   "metadata": {},
   "outputs": [
    {
     "name": "stdout",
     "output_type": "stream",
     "text": [
      "1\n"
     ]
    }
   ],
   "source": [
    "#b.dinh\n",
    "def snt(n):\n",
    "    for i in range(2,n):\n",
    "        if n % i == 0: \n",
    "            return 0\n",
    "    return 1\n",
    "print (snt(13))"
   ]
  },
  {
   "cell_type": "code",
   "execution_count": 6,
   "id": "0d95c79f",
   "metadata": {},
   "outputs": [
    {
     "name": "stdout",
     "output_type": "stream",
     "text": [
      "2\n"
     ]
    }
   ],
   "source": [
    "#c.hieu\n",
    "def uocle(n):\n",
    "    count = 0\n",
    "    for i in range(1, n+1):\n",
    "        if (n % i == 0):\n",
    "            if (i % 2 != 0):\n",
    "                count += 1\n",
    "    return count\n",
    "print(uocle(20))"
   ]
  },
  {
   "cell_type": "code",
   "execution_count": 15,
   "id": "e99f03c9",
   "metadata": {},
   "outputs": [
    {
     "name": "stdout",
     "output_type": "stream",
     "text": [
      "Nhap: 14\n",
      "2\n"
     ]
    }
   ],
   "source": [
    "#d - đếm số các ước số nguyên tố của n\n",
    "# 20\n",
    "# Ước số của 20: 1, 2, 4, 5, 10, 20\n",
    "# Ước số nguyên tố: 2, 5\n",
    "'''\n",
    "dem = 0\n",
    "for i: 2 -> n\n",
    "    Nếu n chia hết cho i        // i là ước số của n\n",
    "        Nếu i là số nguyên tố:\n",
    "            dem += 1\n",
    "return dem\n",
    "            \n",
    "'''\n",
    "def uoc(n):\n",
    "    dem=0\n",
    "    for j in range(2,n+1):\n",
    "        if n%j==0 and snt(j)==1:\n",
    "            dem+=1\n",
    "    return dem\n",
    "n=int(input(\"Nhap: \"))\n",
    "print(uoc(n))\n",
    "        \n",
    "        "
   ]
  },
  {
   "cell_type": "code",
   "execution_count": 18,
   "id": "be5fa559",
   "metadata": {},
   "outputs": [
    {
     "name": "stdout",
     "output_type": "stream",
     "text": [
      "10\n",
      "8\n"
     ]
    }
   ],
   "source": [
    "def tonguoc(n):\n",
    "    sum = 0\n",
    "    for i in range (1,n):\n",
    "        if (n%i == 0): sum +=i\n",
    "    return sum\n",
    "n = int(input())\n",
    "print(tonguoc(n))"
   ]
  },
  {
   "cell_type": "code",
   "execution_count": 5,
   "id": "0e994430",
   "metadata": {},
   "outputs": [
    {
     "name": "stdout",
     "output_type": "stream",
     "text": [
      "nhap vao m: 4\n",
      "nhap vao n: 6\n",
      "2\n"
     ]
    }
   ],
   "source": [
    "# Bai 5a tr.60-thanh nhat\n",
    "def f(m,n):\n",
    "    dem = 0\n",
    "    for i in range(1,m+n+1):\n",
    "        if m%i == 0 and n%i == 0:\n",
    "            dem+=1\n",
    "    return dem\n",
    "m = int(input(\"nhap vao m: \"))\n",
    "n = int(input(\"nhap vao n: \"))\n",
    "print(f(m,n))\n"
   ]
  },
  {
   "cell_type": "code",
   "execution_count": 7,
   "id": "755b77c2",
   "metadata": {},
   "outputs": [
    {
     "name": "stdout",
     "output_type": "stream",
     "text": [
      "Nhap m: 10\n",
      "Nhap n: 12\n",
      "2\n"
     ]
    }
   ],
   "source": [
    "# Bai 5b tr.60-Duy Anh\n",
    "def f(m,n):\n",
    "    dem = 0\n",
    "    for i in range (1,m+1):\n",
    "        if m%i==0 and n%i!=0:\n",
    "            dem+=1\n",
    "    return dem\n",
    "m = int(input(\"Nhap m: \"))\n",
    "n = int(input(\"Nhap n: \"))\n",
    "print(f(m,n))"
   ]
  },
  {
   "cell_type": "code",
   "execution_count": 8,
   "id": "1c0d6758",
   "metadata": {},
   "outputs": [
    {
     "name": "stdout",
     "output_type": "stream",
     "text": [
      "Nhap m: 10\n",
      "Nhap n: 12\n",
      "3\n"
     ]
    }
   ],
   "source": [
    "# Bai 5c tr.60 - Hoàn Mỹ\n",
    "def f(m,n):\n",
    "    tong = 0\n",
    "    for i in range(1,m+1):\n",
    "        if(m%i==0 and n%i==0):\n",
    "            tong+= i\n",
    "    return tong\n",
    "m = int(input(\"Nhap m: \"))\n",
    "n = int(input(\"Nhap n: \"))\n",
    "print(f(m,n))\n"
   ]
  },
  {
   "cell_type": "code",
   "execution_count": 9,
   "id": "50c372b2",
   "metadata": {},
   "outputs": [
    {
     "name": "stdout",
     "output_type": "stream",
     "text": [
      "Nhập góc: 30\n",
      "0.5235987755982988\n"
     ]
    }
   ],
   "source": [
    "# Bai 6 tr.60 - Dùng hàm Lambda\n",
    "# Minh Quân\n",
    "import math\n",
    "radian = lambda d: d*math.pi/180\n",
    "d=float(input(\"Nhập góc: \"))\n",
    "print(radian(d))"
   ]
  },
  {
   "cell_type": "code",
   "execution_count": 10,
   "id": "f7f10285",
   "metadata": {},
   "outputs": [
    {
     "name": "stdout",
     "output_type": "stream",
     "text": [
      "nhap so gio100\n",
      "nhap so phut43\n",
      "nhap so giay56\n",
      "4.197175925925926\n"
     ]
    }
   ],
   "source": [
    "# Bai 10 tr.61\n",
    "#NGọc ANh\n",
    "def convert(h,p,s):\n",
    "    day=(h*60*60+p*60+s)/86400\n",
    "    return day\n",
    "h=int(input(\"nhap so gio: \"))\n",
    "p=int(input(\"nhap so phut: \"))\n",
    "s=int(input(\"nhap so giay: \"))\n",
    "print(convert(h,p,s))"
   ]
  },
  {
   "cell_type": "code",
   "execution_count": 12,
   "id": "80ee79de",
   "metadata": {},
   "outputs": [
    {
     "name": "stdout",
     "output_type": "stream",
     "text": [
      "Nhập cân nặng trên Trái Đất: 70.3\n",
      "Nhập trọng lực của hành tinh cần tính: 23.1\n",
      "165.70714285714286\n"
     ]
    }
   ],
   "source": [
    "# Bai 11 tr.61 - Dùng hàm Lambda\n",
    "#Thanh An\n",
    "your_weight = lambda w,m: w*m/9.8\n",
    "w = float(input(\"Nhập cân nặng trên Trái Đất: \"))\n",
    "m = float(input(\"Nhập trọng lực của hành tinh cần tính: \"))\n",
    "print(your_weight(w, m))"
   ]
  },
  {
   "cell_type": "code",
   "execution_count": 13,
   "id": "b54bf1ee",
   "metadata": {},
   "outputs": [
    {
     "name": "stdout",
     "output_type": "stream",
     "text": [
      "Nhập c: 30\n",
      "303.15\n"
     ]
    }
   ],
   "source": [
    "# Bai 12 tr.61 \n",
    "#Quốc Hiếu\n",
    "convertCK = lambda c: c+273.15\n",
    "c = float(input(\"Nhập c: \"))\n",
    "print(convertCK(c))"
   ]
  },
  {
   "cell_type": "code",
   "execution_count": 26,
   "id": "c3ef9dea",
   "metadata": {},
   "outputs": [
    {
     "name": "stdout",
     "output_type": "stream",
     "text": [
      "210\n",
      "Hai so nay khong la nguyen to cung nhau\n",
      "1 gio 0 phut 0 giay\n",
      "3\n"
     ]
    }
   ],
   "source": [
    "# Bai 15 tr.62 - Văn Đức\n",
    "def a(n):\n",
    "    tong = 0\n",
    "    for i in range(1, n + 1):\n",
    "        tong += i\n",
    "    return tong\n",
    "\n",
    "print(a(20))\n",
    "\n",
    "def b(m, n):\n",
    "    def UCLN(m, n):\n",
    "        if m == 0 or n == 0:\n",
    "            return m + n\n",
    "        while m != n:\n",
    "            if m > n:\n",
    "                m -= n\n",
    "            else:\n",
    "                n -= m\n",
    "        return m\n",
    "    if UCLN(m, n) == 1:\n",
    "        print(\"Hai so nay la nguyen to cung nhau\")\n",
    "    else:\n",
    "        print(\"Hai so nay khong la nguyen to cung nhau\")\n",
    "b(12, 15)\n",
    "\n",
    "def c(s):\n",
    "    gio = s//3600\n",
    "    phut = s%3600//60\n",
    "    giay = s%3600%60\n",
    "    \n",
    "    print(gio, \"gio\", phut, \"phut\", giay, \"giay\")\n",
    "c(3600)\n",
    "\n",
    "def d(a, b):\n",
    "    return abs(a - b)\n",
    "print(d(12, 15))"
   ]
  },
  {
   "cell_type": "code",
   "execution_count": 15,
   "id": "64cd053d",
   "metadata": {},
   "outputs": [
    {
     "name": "stdout",
     "output_type": "stream",
     "text": [
      "Nhap m: 10\n",
      "Nhap n: 20\n",
      "5\n"
     ]
    }
   ],
   "source": [
    "# Bai 17 tr.62\n",
    "#Tran Van Hoang\n",
    "def f(m,n):\n",
    "    kt=bool\n",
    "    unt=0\n",
    "    for i in range(1,n+1):\n",
    "        kt=True\n",
    "        if(n%i==0 and m%i==0):\n",
    "            if(i<2):\n",
    "                kt=False\n",
    "            for j in range(2,i):\n",
    "                if(i%j==0):\n",
    "                    kt=False\n",
    "                    break\n",
    "            if(kt==True and i>=unt):\n",
    "                unt=i\n",
    "    return unt\n",
    "m=int(input(\"Nhap m: \"))\n",
    "n=int(input(\"Nhap n: \"))\n",
    "print(f(m,n))"
   ]
  },
  {
   "cell_type": "code",
   "execution_count": 34,
   "id": "c67cfc00",
   "metadata": {},
   "outputs": [
    {
     "name": "stdout",
     "output_type": "stream",
     "text": [
      "Nhap vao so tu nhien: 0\n",
      "1\n"
     ]
    }
   ],
   "source": [
    "# Bai 18 tr.62\n",
    "#Thành\n",
    "def factorial(n):\n",
    "    tich = 1\n",
    "    for i in range (1, n+1):\n",
    "        tich = tich * i\n",
    "    return tich\n",
    "n = int(input(\"Nhap vao so tu nhien: \"))\n",
    "print(factorial(n))"
   ]
  },
  {
   "cell_type": "code",
   "execution_count": 38,
   "id": "3a8e60a4",
   "metadata": {},
   "outputs": [
    {
     "name": "stdout",
     "output_type": "stream",
     "text": [
      "True\n"
     ]
    }
   ],
   "source": [
    "#bài 18 trang 62\n",
    "#Anh Tú\n",
    "# def nhuan(year):\n",
    "#     return (year % 4==0) or (year % 400 == 0) and (year % 100 != 0):\n",
    "\n",
    "# year=int(input())\n",
    "# print(nhuan(year))\n",
    "# Hoa\n",
    "nhuan = lambda year: year%400==0 or (year%4==0 and year%100!=0)\n",
    "print(nhuan(2020))"
   ]
  },
  {
   "cell_type": "code",
   "execution_count": 27,
   "id": "5d02af77",
   "metadata": {},
   "outputs": [
    {
     "name": "stdout",
     "output_type": "stream",
     "text": [
      "Nhap x: 4\n",
      "1\n"
     ]
    }
   ],
   "source": [
    "# Bai 20 tr.62\n",
    "#Gia Phuc\n",
    "def sign(x):\n",
    "    if x > 0:\n",
    "        return 1\n",
    "    elif x==0:\n",
    "        return 0\n",
    "    else:\n",
    "        return -1\n",
    "x = int(input(\"Nhap x: \"))\n",
    "print(sign(x))"
   ]
  },
  {
   "cell_type": "code",
   "execution_count": 17,
   "id": "27cf26bc",
   "metadata": {},
   "outputs": [
    {
     "name": "stdout",
     "output_type": "stream",
     "text": [
      "4\n",
      "5\n",
      "6\n",
      "9.921567416492215\n"
     ]
    }
   ],
   "source": [
    "# Bai 6 tr.117\n",
    "# ba minh\n",
    "import math\n",
    "a = int(input())\n",
    "b = int(input())\n",
    "c = int(input())\n",
    "p = float ((a+b+c)/2)\n",
    "print (math.sqrt(p*(p-a)*(p-b)*(p-c)))"
   ]
  },
  {
   "cell_type": "code",
   "execution_count": 49,
   "id": "d1ab4762",
   "metadata": {},
   "outputs": [
    {
     "name": "stdout",
     "output_type": "stream",
     "text": [
      "0 0 0 1 1 0\n",
      "(3.414213562373095, 0.49999999999999983)\n"
     ]
    }
   ],
   "source": [
    "# Bai 7 tr.117 \n",
    "import math\n",
    "def triangle_abc(ax, ay, bx, by, cx, cy):\n",
    "    AB = float(math.sqrt((bx-ax)**2 + (by-ay)**2))\n",
    "    BC = float(math.sqrt((cx - bx)**2 + (cy - by)**2))\n",
    "    AC = float(math.sqrt((cx - ax)**2 + (cy - ay)**2))\n",
    "    p = (AB + AC + BC) / 2\n",
    "    cv = AB + AC + BC\n",
    "    s = math.sqrt(p*(p - AB) * (p - BC) * (p - AC))\n",
    "    return cv, s\n",
    "ax, ay, bx, by, cx, cy = map(int, input().split())\n",
    "print(triangle_abc(ax, ay, bx, by, cx, cy))"
   ]
  },
  {
   "cell_type": "code",
   "execution_count": 42,
   "id": "ff8844eb",
   "metadata": {},
   "outputs": [
    {
     "name": "stdout",
     "output_type": "stream",
     "text": [
      "nhap a: 2 6 -3 -4 5 0\n"
     ]
    },
    {
     "ename": "ValueError",
     "evalue": "could not convert string to float: '2 6 -3 -4 5 0'",
     "output_type": "error",
     "traceback": [
      "\u001b[1;31m---------------------------------------------------------------------------\u001b[0m",
      "\u001b[1;31mValueError\u001b[0m                                Traceback (most recent call last)",
      "\u001b[1;32m~\\AppData\\Local\\Temp/ipykernel_11408/323547662.py\u001b[0m in \u001b[0;36m<module>\u001b[1;34m\u001b[0m\n\u001b[0;32m      1\u001b[0m \u001b[1;31m# Bai 13 tr.118 - Văn Hiếu\u001b[0m\u001b[1;33m\u001b[0m\u001b[1;33m\u001b[0m\u001b[0m\n\u001b[0;32m      2\u001b[0m \u001b[1;32mimport\u001b[0m \u001b[0mmath\u001b[0m\u001b[1;33m\u001b[0m\u001b[1;33m\u001b[0m\u001b[0m\n\u001b[1;32m----> 3\u001b[1;33m \u001b[0ma\u001b[0m\u001b[1;33m=\u001b[0m\u001b[0mfloat\u001b[0m\u001b[1;33m(\u001b[0m\u001b[0minput\u001b[0m\u001b[1;33m(\u001b[0m\u001b[1;34m\"nhap a: \"\u001b[0m\u001b[1;33m)\u001b[0m\u001b[1;33m)\u001b[0m\u001b[1;33m\u001b[0m\u001b[1;33m\u001b[0m\u001b[0m\n\u001b[0m\u001b[0;32m      4\u001b[0m \u001b[0mb\u001b[0m\u001b[1;33m=\u001b[0m\u001b[0mfloat\u001b[0m\u001b[1;33m(\u001b[0m\u001b[0minput\u001b[0m\u001b[1;33m(\u001b[0m\u001b[1;34m\"nhap b: \"\u001b[0m\u001b[1;33m)\u001b[0m\u001b[1;33m)\u001b[0m\u001b[1;33m\u001b[0m\u001b[1;33m\u001b[0m\u001b[0m\n\u001b[0;32m      5\u001b[0m \u001b[0mc\u001b[0m\u001b[1;33m=\u001b[0m\u001b[0mfloat\u001b[0m\u001b[1;33m(\u001b[0m\u001b[0minput\u001b[0m\u001b[1;33m(\u001b[0m\u001b[1;34m\"nhap c: \"\u001b[0m\u001b[1;33m)\u001b[0m\u001b[1;33m)\u001b[0m\u001b[1;33m\u001b[0m\u001b[1;33m\u001b[0m\u001b[0m\n",
      "\u001b[1;31mValueError\u001b[0m: could not convert string to float: '2 6 -3 -4 5 0'"
     ]
    }
   ],
   "source": [
    "# Bai 13 tr.118 - Văn Hiếu\n",
    "import math\n",
    "a=float(input(\"nhap a: \"))\n",
    "b=float(input(\"nhap b: \"))\n",
    "c=float(input(\"nhap c: \"))\n",
    "p=(a+b+c)/2\n",
    "s=math.sqrt(p*(p-a)*(p-b)*(p-c))\n",
    "ha=2*s/a\n",
    "hb=2*s/b\n",
    "hc=2*s/c\n",
    "print(\"ha la :\",ha)\n",
    "print(\"hb la :\",hb)\n",
    "print(\"hc la :\",hc)"
   ]
  },
  {
   "cell_type": "code",
   "execution_count": 33,
   "id": "ad68b2ae",
   "metadata": {},
   "outputs": [
    {
     "name": "stdout",
     "output_type": "stream",
     "text": [
      "Nhap N: 100\n",
      "N la so chinh phuong\n"
     ]
    }
   ],
   "source": [
    "# Bai 16 tr.118\n",
    "#Duy Khanh\n",
    "import math\n",
    "N=int(input(\"Nhap N: \"))\n",
    "t=int(math.isqrt(N))\n",
    "if(t*t==N):\n",
    "    print(\"N la so chinh phuong\")\n",
    "else:\n",
    "    print(\"N khong phai la so chinh phuong\")"
   ]
  },
  {
   "cell_type": "code",
   "execution_count": null,
   "id": "31d690a5",
   "metadata": {},
   "outputs": [],
   "source": [
    "# Bai 17 tr.118\n"
   ]
  },
  {
   "cell_type": "code",
   "execution_count": 32,
   "id": "a48dfd02",
   "metadata": {},
   "outputs": [
    {
     "name": "stdout",
     "output_type": "stream",
     "text": [
      "2\n",
      "3\n",
      "5\n",
      "7\n",
      "11\n",
      "13\n",
      "17\n",
      "19\n",
      "None\n"
     ]
    }
   ],
   "source": [
    "# Bai 18 tr.118\n",
    "#Anh Hung\n",
    "def check(n):\n",
    "    '''Kiem tra so nguyen to'''\n",
    "    c = True\n",
    "    for i in range(2,n//2+1):\n",
    "        if n % i == 0:\n",
    "            c = False\n",
    "    return c\n",
    "\n",
    "def primes(n):\n",
    "    '''Tra ve cac so nguyen to nho hon n'''\n",
    "    for i in range(2,n):\n",
    "        if check(i): print(i)\n",
    "print(primes(20))"
   ]
  },
  {
   "cell_type": "code",
   "execution_count": null,
   "id": "ce0a1e24",
   "metadata": {},
   "outputs": [],
   "source": []
  }
 ],
 "metadata": {
  "kernelspec": {
   "display_name": "Python 3 (ipykernel)",
   "language": "python",
   "name": "python3"
  },
  "language_info": {
   "codemirror_mode": {
    "name": "ipython",
    "version": 3
   },
   "file_extension": ".py",
   "mimetype": "text/x-python",
   "name": "python",
   "nbconvert_exporter": "python",
   "pygments_lexer": "ipython3",
   "version": "3.9.7"
  }
 },
 "nbformat": 4,
 "nbformat_minor": 5
}
