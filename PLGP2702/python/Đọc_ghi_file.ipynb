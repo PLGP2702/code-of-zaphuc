{
 "cells": [
  {
   "cell_type": "code",
   "execution_count": 40,
   "metadata": {},
   "outputs": [
    {
     "name": "stdout",
     "output_type": "stream",
     "text": [
      "5\n",
      "[]\n"
     ]
    }
   ],
   "source": [
    "#Bai 4 tr.160\n",
    "f = open(\"test.txt\",\"w\")\n",
    "f.write(\"5\\n 19 -2 9.8 7 -10\")\n",
    "f = open(\"test.txt\",\"r\")\n",
    "s = f.readline()\n",
    "n = int(s[0].strip())\n",
    "A = [eval(x) for x in s[1].split()]\n",
    "print(n)\n",
    "print(A)\n",
    "f.close()"
   ]
  },
  {
   "cell_type": "code",
   "execution_count": 14,
   "metadata": {},
   "outputs": [],
   "source": [
    "f = open('tucngu.txt','w')\n",
    "f.write('O HIEN GAP LANH')\n",
    "f.close()"
   ]
  },
  {
   "cell_type": "code",
   "execution_count": 13,
   "metadata": {},
   "outputs": [
    {
     "ename": "NameError",
     "evalue": "name 'a' is not defined",
     "output_type": "error",
     "traceback": [
      "\u001b[1;31m---------------------------------------------------------------------------\u001b[0m",
      "\u001b[1;31mNameError\u001b[0m                                 Traceback (most recent call last)",
      "\u001b[1;32mc:\\Users\\Gia Phuc\\Desktop\\code-of-zaphuc\\PLGP2702\\python\\Đọc_ghi_file.ipynb Cell 3\u001b[0m in \u001b[0;36m<cell line: 4>\u001b[1;34m()\u001b[0m\n\u001b[0;32m      <a href='vscode-notebook-cell:/c%3A/Users/Gia%20Phuc/Desktop/code-of-zaphuc/PLGP2702/python/%C4%90%E1%BB%8Dc_ghi_file.ipynb#W2sZmlsZQ%3D%3D?line=1'>2</a>\u001b[0m f \u001b[39m=\u001b[39m \u001b[39mopen\u001b[39m(\u001b[39m\"\u001b[39m\u001b[39mbai5.txt\u001b[39m\u001b[39m\"\u001b[39m,\u001b[39m\"\u001b[39m\u001b[39mw\u001b[39m\u001b[39m\"\u001b[39m)\n\u001b[0;32m      <a href='vscode-notebook-cell:/c%3A/Users/Gia%20Phuc/Desktop/code-of-zaphuc/PLGP2702/python/%C4%90%E1%BB%8Dc_ghi_file.ipynb#W2sZmlsZQ%3D%3D?line=2'>3</a>\u001b[0m f\u001b[39m.\u001b[39mwrite(\u001b[39mstr\u001b[39m(n)\u001b[39m+\u001b[39m\u001b[39m'\u001b[39m\u001b[39m\\n\u001b[39;00m\u001b[39m'\u001b[39m)\n\u001b[1;32m----> <a href='vscode-notebook-cell:/c%3A/Users/Gia%20Phuc/Desktop/code-of-zaphuc/PLGP2702/python/%C4%90%E1%BB%8Dc_ghi_file.ipynb#W2sZmlsZQ%3D%3D?line=3'>4</a>\u001b[0m \u001b[39mfor\u001b[39;00m a \u001b[39min\u001b[39;00m a:\n\u001b[0;32m      <a href='vscode-notebook-cell:/c%3A/Users/Gia%20Phuc/Desktop/code-of-zaphuc/PLGP2702/python/%C4%90%E1%BB%8Dc_ghi_file.ipynb#W2sZmlsZQ%3D%3D?line=4'>5</a>\u001b[0m     \u001b[39mprint\u001b[39m(\u001b[39mstr\u001b[39m(a), file \u001b[39m=\u001b[39m f, end \u001b[39m=\u001b[39m \u001b[39m'\u001b[39m\u001b[39m \u001b[39m\u001b[39m'\u001b[39m)\n\u001b[0;32m      <a href='vscode-notebook-cell:/c%3A/Users/Gia%20Phuc/Desktop/code-of-zaphuc/PLGP2702/python/%C4%90%E1%BB%8Dc_ghi_file.ipynb#W2sZmlsZQ%3D%3D?line=5'>6</a>\u001b[0m f\u001b[39m.\u001b[39mclose()\n",
      "\u001b[1;31mNameError\u001b[0m: name 'a' is not defined"
     ]
    }
   ],
   "source": [
    "#bai 5 tr.160\n",
    "f = open(\"bai5.txt\",\"w\")\n",
    "f.write(str(n)+'\\n')\n",
    "for a in A:\n",
    "    print(str(a), file = f, end = ' ')\n",
    "f.close()\n",
    "print(a)"
   ]
  },
  {
   "cell_type": "code",
   "execution_count": 45,
   "metadata": {},
   "outputs": [],
   "source": [
    "a = int(input('Nhap a: '))\n",
    "b = int(input(\"Nhap b: \"))\n",
    "f = open('tong.txt','w')\n",
    "f.write('tong hai so la: ')\n",
    "f.write(str(a+b))\n",
    "f.write('\\n')\n",
    "f.write('tich hai so la: ')\n",
    "f.write(str(a*b))\n",
    "f.close()"
   ]
  },
  {
   "cell_type": "code",
   "execution_count": null,
   "metadata": {},
   "outputs": [],
   "source": [
    "#bai 6 tr.160\n",
    "fi = open(\"fin.txt\",'r')\n",
    "n = fi.readline()\n",
    "n = int(n.rstrip())\n",
    "a = fi.realines()\n",
    "print(a)\n",
    "for i in range(n):\n",
    "    a[i] = a[j].split()\n",
    "    print(a[i])\n",
    "    for i in range(len(a[i])):\n",
    "        a[i][j] = eval(a[i][j])\n",
    "fi.close()"
   ]
  },
  {
   "cell_type": "code",
   "execution_count": 16,
   "metadata": {},
   "outputs": [],
   "source": [
    "#BAI 7  TR.161\n",
    "f = open('DL.dat', 'w')\n",
    "A = [0, 0.3 , 5.7 , 19 , -1.3 , 15.65 , 7.0 , 11]\n",
    "for a in A:\n",
    "    f.write(str(a)+'\\n')\n",
    "f.close()"
   ]
  },
  {
   "cell_type": "code",
   "execution_count": null,
   "metadata": {},
   "outputs": [],
   "source": [
    "#bai 9 tr.161\n",
    "m = int(input())\n",
    "n = int(input())\n",
    "A = [[int(input()) for i in range(n)]]"
   ]
  }
 ],
 "metadata": {
  "kernelspec": {
   "display_name": "Python 3.10.5 64-bit",
   "language": "python",
   "name": "python3"
  },
  "language_info": {
   "codemirror_mode": {
    "name": "ipython",
    "version": 3
   },
   "file_extension": ".py",
   "mimetype": "text/x-python",
   "name": "python",
   "nbconvert_exporter": "python",
   "pygments_lexer": "ipython3",
   "version": "3.10.5"
  },
  "orig_nbformat": 4,
  "vscode": {
   "interpreter": {
    "hash": "281f676dbe7bf7e07953c9233552a4b4535e36268e93b318725eb696c7a0729f"
   }
  }
 },
 "nbformat": 4,
 "nbformat_minor": 2
}
