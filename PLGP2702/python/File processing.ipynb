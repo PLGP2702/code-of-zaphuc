{
 "cells": [
  {
   "cell_type": "code",
   "execution_count": 12,
   "id": "48ac0632",
   "metadata": {},
   "outputs": [
    {
     "name": "stdout",
     "output_type": "stream",
     "text": [
      "5\n",
      "[19, -2, 9.8, 7, -10]\n"
     ]
    }
   ],
   "source": [
    "# Bai 4 tr.160 - thanh nhat\n",
    "f = open(\"test.txt\",\"r\")\n",
    "s = f.readlines()\n",
    "n = int(s[0].strip())\n",
    "A = [eval(x) for x in s[1].split()]\n",
    "print(n)\n",
    "print(A)\n",
    "f.close()"
   ]
  },
  {
   "cell_type": "code",
   "execution_count": 16,
   "id": "e7f4c8af",
   "metadata": {},
   "outputs": [],
   "source": [
    "# Bai 5 tr.160\n",
    "f = open(\"txtBai_5.txt\",\"w\")\n",
    "f.write(str(n)+'\\n')\n",
    "for a in A:\n",
    "    print(str(a), file = f, end=' ')\n",
    "f.close()"
   ]
  },
  {
   "cell_type": "code",
   "execution_count": 22,
   "id": "c0d7d244",
   "metadata": {},
   "outputs": [],
   "source": [
    "# Bai 6 tr.160 - Thai Hoa\n",
    "fi = open(\"fin.txt\",\"r\")\n",
    "n = fi.readline()\n",
    "n = int(n.rstrip())\n",
    "a = fi.readlines()\n",
    "for i in range(n):\n",
    "    a[i] = a[i].split()\n",
    "    for j in range(len(a[i])):\n",
    "        a[i][j] = eval(a[i][j])\n",
    "fi.close()\n",
    "\n",
    "fo = open(\"fout.txt\",\"w\")\n",
    "s = 0\n",
    "for a_i in a:\n",
    "    s += sum(a_i)\n",
    "fo.write(str(s)+\"\\n\")\n",
    "for a_i in a:\n",
    "    fo.write(str(sum(a_i))+\"\\n\")\n",
    "fo.close()"
   ]
  },
  {
   "cell_type": "code",
   "execution_count": 4,
   "id": "3f1b39f3",
   "metadata": {},
   "outputs": [],
   "source": [
    "# Bai 7 tr.161 - Minh Quân\n",
    "f=open(\"DL.dat\",\"w\")\n",
    "A=[0, 0.3, 5.7, 19, -1.3, 15.56, 7.0, 11]\n",
    "for a in A:\n",
    "    f.write(str(a)+\"\\n\")\n",
    "f.close()"
   ]
  },
  {
   "cell_type": "code",
   "execution_count": 5,
   "id": "019dfd2b",
   "metadata": {},
   "outputs": [
    {
     "name": "stdout",
     "output_type": "stream",
     "text": [
      "[0, 0.3, 5.7, 19, -1.3, 15.56, 7.0, 11]\n"
     ]
    }
   ],
   "source": [
    "# Bai 8 tr.161 ngoc Anh\n",
    "f = open(\"DL.dat\", \"r\")\n",
    "s = f.read()\n",
    "A = [eval(a) for a in s.split()]\n",
    "print(A)\n",
    "f.close()"
   ]
  },
  {
   "cell_type": "code",
   "execution_count": 1,
   "id": "ff32c8bc",
   "metadata": {},
   "outputs": [
    {
     "name": "stdout",
     "output_type": "stream",
     "text": [
      "2\n",
      "3\n",
      "1\n",
      "2\n",
      "3\n",
      "4\n",
      "5\n",
      "6\n",
      "2 3\n",
      "\n",
      "1 2 3 \n",
      "\n",
      "4 5 6 \n",
      "\n"
     ]
    }
   ],
   "source": [
    "# Bai 9 tr.161 - Thanh An\n",
    "m = int(input())\n",
    "n = int(input())\n",
    "A = [[int(input()) for x in range(n)] for y in range(m)]\n",
    "f = open(\"Data.dat\", \"w\")\n",
    "f.write(str(m) + \" \" + str(n) + \"\\n\")\n",
    "for i in range(len(A)):\n",
    "    for j in range(len(A[i])):\n",
    "        f.write(str(A[i][j]) + \" \")\n",
    "    f.write(\"\\n\")\n",
    "f.close()\n",
    "f = open(\"Data.dat\", \"r\")\n",
    "for line in f:\n",
    "    print(line)\n"
   ]
  },
  {
   "cell_type": "code",
   "execution_count": null,
   "id": "2f9d15fb",
   "metadata": {},
   "outputs": [],
   "source": [
    "# Bai 10 tr.162\n"
   ]
  },
  {
   "cell_type": "code",
   "execution_count": 6,
   "id": "1b850bda",
   "metadata": {},
   "outputs": [],
   "source": [
    "# Bai 11 tr.162 a.hung\n",
    "def prime(num):\n",
    "    if num == 0 or num == 1: return 0\n",
    "    if num == 2: return 1\n",
    "    for i in range(2,num//2+1):\n",
    "        if num % i == 0: return 0\n",
    "    return 1\n",
    "\n",
    "fi = open('input.txt', 'r')\n",
    "fo = open('output.txt', 'w')\n",
    "for s in fi:\n",
    "    val = int(s.strip())\n",
    "    if prime(val) == 1:\n",
    "        print('1', file=fo, end='\\n')\n",
    "    else:\n",
    "        print('0', file=fo, end='\\n')\n",
    "        \n",
    "fi.close()\n",
    "fo.close()"
   ]
  },
  {
   "cell_type": "code",
   "execution_count": null,
   "id": "ef00a76d",
   "metadata": {},
   "outputs": [],
   "source": [
    "# Bai 12 tr.162\n"
   ]
  },
  {
   "cell_type": "code",
   "execution_count": null,
   "id": "b088aa8c",
   "metadata": {},
   "outputs": [],
   "source": [
    "# Bai 13 tr.162\n"
   ]
  },
  {
   "cell_type": "code",
   "execution_count": null,
   "id": "9268f05c",
   "metadata": {},
   "outputs": [],
   "source": []
  }
 ],
 "metadata": {
  "kernelspec": {
   "display_name": "Python 3 (ipykernel)",
   "language": "python",
   "name": "python3"
  },
  "language_info": {
   "codemirror_mode": {
    "name": "ipython",
    "version": 3
   },
   "file_extension": ".py",
   "mimetype": "text/x-python",
   "name": "python",
   "nbconvert_exporter": "python",
   "pygments_lexer": "ipython3",
   "version": "3.9.7"
  }
 },
 "nbformat": 4,
 "nbformat_minor": 5
}
