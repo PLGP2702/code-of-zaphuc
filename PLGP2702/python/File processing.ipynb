{
 "cells": [
  {
   "cell_type": "code",
   "execution_count": 2,
   "id": "48ac0632",
   "metadata": {},
   "outputs": [
    {
     "ename": "FileNotFoundError",
     "evalue": "[Errno 2] No such file or directory: 'test.txt'",
     "output_type": "error",
     "traceback": [
      "\u001b[1;31m---------------------------------------------------------------------------\u001b[0m",
      "\u001b[1;31mFileNotFoundError\u001b[0m                         Traceback (most recent call last)",
      "\u001b[1;32mc:\\Users\\Gia Phuc\\Desktop\\code-of-zaphuc\\PLGP2702\\python\\File processing.ipynb Cell 1\u001b[0m in \u001b[0;36m<cell line: 2>\u001b[1;34m()\u001b[0m\n\u001b[0;32m      <a href='vscode-notebook-cell:/c%3A/Users/Gia%20Phuc/Desktop/code-of-zaphuc/PLGP2702/python/File%20processing.ipynb#X14sZmlsZQ%3D%3D?line=0'>1</a>\u001b[0m \u001b[39m# Bai 4 tr.160 - thanh nhat\u001b[39;00m\n\u001b[1;32m----> <a href='vscode-notebook-cell:/c%3A/Users/Gia%20Phuc/Desktop/code-of-zaphuc/PLGP2702/python/File%20processing.ipynb#X14sZmlsZQ%3D%3D?line=1'>2</a>\u001b[0m f \u001b[39m=\u001b[39m \u001b[39mopen\u001b[39;49m(\u001b[39m\"\u001b[39;49m\u001b[39mtest.txt\u001b[39;49m\u001b[39m\"\u001b[39;49m,\u001b[39m\"\u001b[39;49m\u001b[39mr\u001b[39;49m\u001b[39m\"\u001b[39;49m)\n\u001b[0;32m      <a href='vscode-notebook-cell:/c%3A/Users/Gia%20Phuc/Desktop/code-of-zaphuc/PLGP2702/python/File%20processing.ipynb#X14sZmlsZQ%3D%3D?line=2'>3</a>\u001b[0m s \u001b[39m=\u001b[39m f\u001b[39m.\u001b[39mreadlines()\n\u001b[0;32m      <a href='vscode-notebook-cell:/c%3A/Users/Gia%20Phuc/Desktop/code-of-zaphuc/PLGP2702/python/File%20processing.ipynb#X14sZmlsZQ%3D%3D?line=3'>4</a>\u001b[0m n \u001b[39m=\u001b[39m \u001b[39mint\u001b[39m(s[\u001b[39m0\u001b[39m]\u001b[39m.\u001b[39mstrip())\n",
      "\u001b[1;31mFileNotFoundError\u001b[0m: [Errno 2] No such file or directory: 'test.txt'"
     ]
    }
   ],
   "source": [
    "# Bai 4 tr.160 - thanh nhat\n",
    "f = open(\"test.txt\",\"r\")\n",
    "s = f.readlines()\n",
    "n = int(s[0].strip())\n",
    "A = [eval(x) for x in s[1].split()]\n",
    "print(n)\n",
    "print(A)\n",
    "f.close()"
   ]
  },
  {
   "cell_type": "code",
   "execution_count": 1,
   "id": "e7f4c8af",
   "metadata": {},
   "outputs": [
    {
     "ename": "NameError",
     "evalue": "name 'n' is not defined",
     "output_type": "error",
     "traceback": [
      "\u001b[1;31m---------------------------------------------------------------------------\u001b[0m",
      "\u001b[1;31mNameError\u001b[0m                                 Traceback (most recent call last)",
      "\u001b[1;32mc:\\Users\\Gia Phuc\\Desktop\\code-of-zaphuc\\PLGP2702\\python\\File processing.ipynb Cell 2\u001b[0m in \u001b[0;36m<cell line: 3>\u001b[1;34m()\u001b[0m\n\u001b[0;32m      <a href='vscode-notebook-cell:/c%3A/Users/Gia%20Phuc/Desktop/code-of-zaphuc/PLGP2702/python/File%20processing.ipynb#X15sZmlsZQ%3D%3D?line=0'>1</a>\u001b[0m \u001b[39m# Bai 5 tr.160\u001b[39;00m\n\u001b[0;32m      <a href='vscode-notebook-cell:/c%3A/Users/Gia%20Phuc/Desktop/code-of-zaphuc/PLGP2702/python/File%20processing.ipynb#X15sZmlsZQ%3D%3D?line=1'>2</a>\u001b[0m f \u001b[39m=\u001b[39m \u001b[39mopen\u001b[39m(\u001b[39m\"\u001b[39m\u001b[39mtxtBai_5.txt\u001b[39m\u001b[39m\"\u001b[39m,\u001b[39m\"\u001b[39m\u001b[39mw\u001b[39m\u001b[39m\"\u001b[39m)\n\u001b[1;32m----> <a href='vscode-notebook-cell:/c%3A/Users/Gia%20Phuc/Desktop/code-of-zaphuc/PLGP2702/python/File%20processing.ipynb#X15sZmlsZQ%3D%3D?line=2'>3</a>\u001b[0m f\u001b[39m.\u001b[39mwrite(\u001b[39mstr\u001b[39m(n)\u001b[39m+\u001b[39m\u001b[39m'\u001b[39m\u001b[39m\\n\u001b[39;00m\u001b[39m'\u001b[39m)\n\u001b[0;32m      <a href='vscode-notebook-cell:/c%3A/Users/Gia%20Phuc/Desktop/code-of-zaphuc/PLGP2702/python/File%20processing.ipynb#X15sZmlsZQ%3D%3D?line=3'>4</a>\u001b[0m \u001b[39mfor\u001b[39;00m a \u001b[39min\u001b[39;00m A:\n\u001b[0;32m      <a href='vscode-notebook-cell:/c%3A/Users/Gia%20Phuc/Desktop/code-of-zaphuc/PLGP2702/python/File%20processing.ipynb#X15sZmlsZQ%3D%3D?line=4'>5</a>\u001b[0m     \u001b[39mprint\u001b[39m(\u001b[39mstr\u001b[39m(a), file \u001b[39m=\u001b[39m f, end\u001b[39m=\u001b[39m\u001b[39m'\u001b[39m\u001b[39m \u001b[39m\u001b[39m'\u001b[39m)\n",
      "\u001b[1;31mNameError\u001b[0m: name 'n' is not defined"
     ]
    }
   ],
   "source": [
    "# Bai 5 tr.160\n",
    "f = open(\"txtBai_5.txt\",\"w\")\n",
    "f.write(str(n)+'\\n')\n",
    "for a in A:\n",
    "    print(str(a), file = f, end=' ')\n",
    "f.close()"
   ]
  },
  {
   "cell_type": "code",
   "execution_count": 3,
   "id": "c0d7d244",
   "metadata": {},
   "outputs": [
    {
     "ename": "FileNotFoundError",
     "evalue": "[Errno 2] No such file or directory: 'fin.txt'",
     "output_type": "error",
     "traceback": [
      "\u001b[1;31m---------------------------------------------------------------------------\u001b[0m",
      "\u001b[1;31mFileNotFoundError\u001b[0m                         Traceback (most recent call last)",
      "\u001b[1;32mc:\\Users\\Gia Phuc\\Desktop\\code-of-zaphuc\\PLGP2702\\python\\File processing.ipynb Cell 3\u001b[0m in \u001b[0;36m<cell line: 2>\u001b[1;34m()\u001b[0m\n\u001b[0;32m      <a href='vscode-notebook-cell:/c%3A/Users/Gia%20Phuc/Desktop/code-of-zaphuc/PLGP2702/python/File%20processing.ipynb#X16sZmlsZQ%3D%3D?line=0'>1</a>\u001b[0m \u001b[39m# Bai 6 tr.160 - Thai Hoa\u001b[39;00m\n\u001b[1;32m----> <a href='vscode-notebook-cell:/c%3A/Users/Gia%20Phuc/Desktop/code-of-zaphuc/PLGP2702/python/File%20processing.ipynb#X16sZmlsZQ%3D%3D?line=1'>2</a>\u001b[0m fi \u001b[39m=\u001b[39m \u001b[39mopen\u001b[39;49m(\u001b[39m\"\u001b[39;49m\u001b[39mfin.txt\u001b[39;49m\u001b[39m\"\u001b[39;49m,\u001b[39m\"\u001b[39;49m\u001b[39mr\u001b[39;49m\u001b[39m\"\u001b[39;49m)\n\u001b[0;32m      <a href='vscode-notebook-cell:/c%3A/Users/Gia%20Phuc/Desktop/code-of-zaphuc/PLGP2702/python/File%20processing.ipynb#X16sZmlsZQ%3D%3D?line=2'>3</a>\u001b[0m n \u001b[39m=\u001b[39m fi\u001b[39m.\u001b[39mreadline()\n\u001b[0;32m      <a href='vscode-notebook-cell:/c%3A/Users/Gia%20Phuc/Desktop/code-of-zaphuc/PLGP2702/python/File%20processing.ipynb#X16sZmlsZQ%3D%3D?line=3'>4</a>\u001b[0m n \u001b[39m=\u001b[39m \u001b[39mint\u001b[39m(n\u001b[39m.\u001b[39mrstrip())\n",
      "\u001b[1;31mFileNotFoundError\u001b[0m: [Errno 2] No such file or directory: 'fin.txt'"
     ]
    }
   ],
   "source": [
    "# Bai 6 tr.160 - Thai Hoa\n",
    "fi = open(\"fin.txt\",\"r\")\n",
    "n = fi.readline()\n",
    "n = int(n.rstrip())\n",
    "a = fi.readlines()\n",
    "for i in range(n):\n",
    "    a[i] = a[i].split()\n",
    "    for j in range(len(a[i])):\n",
    "        a[i][j] = eval(a[i][j])\n",
    "fi.close()\n",
    "\n",
    "fo = open(\"fout.txt\",\"w\")\n",
    "s = 0\n",
    "for a_i in a:\n",
    "    s += sum(a_i)\n",
    "fo.write(str(s)+\"\\n\")\n",
    "for a_i in a:\n",
    "    fo.write(str(sum(a_i))+\"\\n\")\n",
    "fo.close()"
   ]
  },
  {
   "cell_type": "code",
   "execution_count": 4,
   "id": "3f1b39f3",
   "metadata": {},
   "outputs": [],
   "source": [
    "# Bai 7 tr.161 - Minh Quân\n",
    "f=open(\"DL.dat\",\"w\")\n",
    "A=[0, 0.3, 5.7, 19, -1.3, 15.56, 7.0, 11]\n",
    "for a in A:\n",
    "    f.write(str(a)+\"\\n\")\n",
    "f.close()"
   ]
  },
  {
   "cell_type": "code",
   "execution_count": 5,
   "id": "019dfd2b",
   "metadata": {},
   "outputs": [
    {
     "name": "stdout",
     "output_type": "stream",
     "text": [
      "[0, 0.3, 5.7, 19, -1.3, 15.56, 7.0, 11]\n"
     ]
    }
   ],
   "source": [
    "# Bai 8 tr.161 ngoc Anh\n",
    "f = open(\"DL.dat\", \"r\")\n",
    "s = f.read()\n",
    "A = [eval(a) for a in s.split()]\n",
    "print(A)\n",
    "f.close()"
   ]
  },
  {
   "cell_type": "code",
   "execution_count": 4,
   "id": "ff32c8bc",
   "metadata": {},
   "outputs": [
    {
     "name": "stdout",
     "output_type": "stream",
     "text": [
      "2 2\n",
      "\n",
      "2 2 \n",
      "\n",
      "2 2 \n",
      "\n"
     ]
    }
   ],
   "source": [
    "# Bai 9 tr.161 - Thanh An\n",
    "m = int(input())\n",
    "n = int(input())\n",
    "A = [[int(input()) for x in range(n)] for y in range(m)]\n",
    "f = open(\"Data.dat\", \"w\")\n",
    "f.write(str(m) + \" \" + str(n) + \"\\n\")\n",
    "for i in range(len(A)):\n",
    "    for j in range(len(A[i])):\n",
    "        f.write(str(A[i][j]) + \" \")\n",
    "    f.write(\"\\n\")\n",
    "f.close()\n",
    "f = open(\"Data.dat\", \"r\")\n",
    "for line in f:\n",
    "    print(line)\n"
   ]
  },
  {
   "cell_type": "code",
   "execution_count": null,
   "id": "2f9d15fb",
   "metadata": {},
   "outputs": [],
   "source": [
    "# Bai 10 tr.162\n"
   ]
  },
  {
   "cell_type": "code",
   "execution_count": 6,
   "id": "1b850bda",
   "metadata": {},
   "outputs": [],
   "source": [
    "# Bai 11 tr.162 a.hung\n",
    "def prime(num):\n",
    "    if num == 0 or num == 1: return 0\n",
    "    if num == 2: return 1\n",
    "    for i in range(2,num//2+1):\n",
    "        if num % i == 0: return 0\n",
    "    return 1\n",
    "\n",
    "fi = open('input.txt', 'r')\n",
    "fo = open('output.txt', 'w')\n",
    "for s in fi:\n",
    "    val = int(s.strip())\n",
    "    if prime(val) == 1:\n",
    "        print('1', file=fo, end='\\n')\n",
    "    else:\n",
    "        print('0', file=fo, end='\\n')\n",
    "        \n",
    "fi.close()\n",
    "fo.close()"
   ]
  },
  {
   "cell_type": "code",
   "execution_count": null,
   "id": "ef00a76d",
   "metadata": {},
   "outputs": [],
   "source": [
    "# Bai 12 tr.162\n"
   ]
  },
  {
   "cell_type": "code",
   "execution_count": null,
   "id": "b088aa8c",
   "metadata": {},
   "outputs": [],
   "source": [
    "# Bai 13 tr.162\n"
   ]
  },
  {
   "cell_type": "code",
   "execution_count": null,
   "id": "9268f05c",
   "metadata": {},
   "outputs": [],
   "source": []
  }
 ],
 "metadata": {
  "kernelspec": {
   "display_name": "Python 3.10.5 64-bit",
   "language": "python",
   "name": "python3"
  },
  "language_info": {
   "codemirror_mode": {
    "name": "ipython",
    "version": 3
   },
   "file_extension": ".py",
   "mimetype": "text/x-python",
   "name": "python",
   "nbconvert_exporter": "python",
   "pygments_lexer": "ipython3",
   "version": "3.10.5"
  },
  "vscode": {
   "interpreter": {
    "hash": "281f676dbe7bf7e07953c9233552a4b4535e36268e93b318725eb696c7a0729f"
   }
  }
 },
 "nbformat": 4,
 "nbformat_minor": 5
}
