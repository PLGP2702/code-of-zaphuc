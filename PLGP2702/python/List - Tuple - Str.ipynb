{
 "cells": [
  {
   "cell_type": "code",
   "execution_count": 7,
   "id": "8d8ac2e7",
   "metadata": {
    "scrolled": false
   },
   "outputs": [
    {
     "name": "stdout",
     "output_type": "stream",
     "text": [
      "Nhap vao n:15\n",
      "[1, 3, 5]\n"
     ]
    }
   ],
   "source": [
    "# Bai 8 tr.86 - Thanh Nhat\n",
    "n = int(input(\"Nhap vao n:\"))\n",
    "mylist = []\n",
    "for i in range(1,n):\n",
    "    if n%i == 0:\n",
    "        mylist.append(i)\n",
    "print(mylist)"
   ]
  },
  {
   "cell_type": "code",
   "execution_count": 11,
   "id": "93a19dd5",
   "metadata": {},
   "outputs": [
    {
     "name": "stdout",
     "output_type": "stream",
     "text": [
      "Nhap n: 10\n",
      "1\n",
      "2\n",
      "5\n",
      "6\n",
      "11\n",
      "13\n",
      "6\n",
      "18\n",
      "17\n",
      "20\n",
      "[2, 5, 11, 13, 17]\n"
     ]
    }
   ],
   "source": [
    "# Bai 10 - Thanh An\n",
    "import math\n",
    "def checkSNT(x):\n",
    "    if x < 2:\n",
    "        return False\n",
    "    else:\n",
    "        i = 2\n",
    "        if i <= math.sqrt(x):\n",
    "            if x % i == 0:\n",
    "                return False\n",
    "        else:\n",
    "            i += 1\n",
    "    return True\n",
    "n = int(input(\"Nhap n: \"))\n",
    "lst = []\n",
    "lst2 = []\n",
    "for i in range(n):\n",
    "    x = int(input())\n",
    "    lst.append(x)\n",
    "for i in lst:\n",
    "    if checkSNT(i) == True:\n",
    "        lst2.append(i)\n",
    "print(lst2)\n"
   ]
  },
  {
   "cell_type": "code",
   "execution_count": 16,
   "id": "489755df",
   "metadata": {},
   "outputs": [
    {
     "name": "stdout",
     "output_type": "stream",
     "text": [
      "Nhap so luong phan tu: 4\n",
      "Nhap gia tri phan tu: 1\n",
      "Nhap gia tri phan tu: 2\n",
      "Nhap gia tri phan tu: 3\n",
      "Nhap gia tri phan tu: 4\n",
      "10\n"
     ]
    }
   ],
   "source": [
    "# Bai 11- Van Hieu\n",
    "a=int(input(\"Nhap so luong phan tu: \"))\n",
    "lst= []\n",
    "for i in range(a):\n",
    "    lst.append(int(input(\"Nhap gia tri phan tu: \")))\n",
    "cnt=0\n",
    "for i in lst:\n",
    "    cnt += i\n",
    "print(cnt)"
   ]
  },
  {
   "cell_type": "code",
   "execution_count": 23,
   "id": "fb302eb2",
   "metadata": {},
   "outputs": [
    {
     "name": "stdout",
     "output_type": "stream",
     "text": [
      "[0, 1, 2, 3, 4, 5, 6, 7, 8, 10, 13, 16, 17]\n"
     ]
    }
   ],
   "source": [
    "# Bai 13\n",
    "A = [0,2,4,6,8,10, 13, 16, 17]\n",
    "B = [1,3,5,7]\n",
    "C = []\n",
    "na = len(A)\n",
    "nb = len(B)\n",
    "if na <= nb:\n",
    "    n1 = na\n",
    "else:\n",
    "    n1 = nb\n",
    "for i in range(n1):\n",
    "    C.append(A[i])\n",
    "    C.append(B[i])\n",
    "if na < nb:\n",
    "    C += B[n1:]\n",
    "elif na > nb:\n",
    "    C += A[n1:]\n",
    "print(C)"
   ]
  },
  {
   "cell_type": "code",
   "execution_count": 20,
   "id": "75b39abe",
   "metadata": {},
   "outputs": [
    {
     "name": "stdout",
     "output_type": "stream",
     "text": [
      "[1.2, 0, 15, 1, 50, 4.56]\n"
     ]
    }
   ],
   "source": [
    "# Bai 14 - Duy Anh\n",
    "A = [1.2, \"one\", 0, 15, \"A\", \"B\", \"C\", 1, 50, 4.56, \"C\"]\n",
    "n = len(A)\n",
    "B = []\n",
    "for i in range(n):\n",
    "    if(type(A[i]) == float or type(A[i]) == int):\n",
    "        B.append(A[i])\n",
    "print(B)"
   ]
  },
  {
   "cell_type": "code",
   "execution_count": 7,
   "id": "7f3bb1f1",
   "metadata": {},
   "outputs": [
    {
     "name": "stdout",
     "output_type": "stream",
     "text": [
      "Nhap n: 12\n",
      "[1, 3, 5, 7, 9, 11]\n",
      "[2, 4, 6, 8, 10]\n"
     ]
    }
   ],
   "source": [
    "# Bai 16 - Hoàn Mỹ \n",
    "n = int(input(\"Nhap n: \"))\n",
    "A = list(range(1, n, 2))\n",
    "B = list(range(2, n, 2))\n",
    "print(A)\n",
    "print(B)"
   ]
  },
  {
   "cell_type": "code",
   "execution_count": 29,
   "id": "50bd289e",
   "metadata": {},
   "outputs": [
    {
     "name": "stdout",
     "output_type": "stream",
     "text": [
      "[3, 6, 9, 4, 5]\n",
      "--------\n",
      "[11, 22, 3, 4, 5]\n"
     ]
    }
   ],
   "source": [
    "# Bai 17- hung\n",
    "def name(Lst1, Lst2):\n",
    "    ans =[]\n",
    "    l1 = len(Lst1)\n",
    "    l2 = len(Lst2)\n",
    "    if l1 <= l2:\n",
    "        for i in range(l1):\n",
    "            ans.append(Lst1[i] + Lst2[i])\n",
    "        ans += Lst2[l1:]\n",
    "    else:\n",
    "        for i in range(l2):\n",
    "            ans.append(Lst1[i] + Lst2[i])\n",
    "        ans += Lst1[l2:]\n",
    "    return ans\n",
    "\n",
    "A = [2,4,6]\n",
    "B = [1,2,3,4,5]\n",
    "print(name(A,B))\n",
    "print(\"--------\")\n",
    "C = [10,20]\n",
    "print(name(B,C))\n"
   ]
  },
  {
   "cell_type": "code",
   "execution_count": 32,
   "id": "c0bd4756",
   "metadata": {},
   "outputs": [
    {
     "name": "stdout",
     "output_type": "stream",
     "text": [
      "([4.2, 2, 3], ['an', 'binh', '0h'])\n"
     ]
    }
   ],
   "source": [
    "# Bai 18\n",
    "def solve(list):\n",
    "    list_number = []\n",
    "    list_string = []\n",
    "    n = len(list)\n",
    "    for i in range(0, n):\n",
    "        if type(list[i]) is int or type(list[i]) is float:\n",
    "            list_number.append(list[i])\n",
    "        elif(type(list[i]) is str):\n",
    "            list_string.append(str(list[i]))\n",
    "    return list_number, list_string\n",
    "\n",
    "list = [4.2, 'an', 2, 'binh', 3, '0h']\n",
    "print(solve(list))\n"
   ]
  },
  {
   "cell_type": "code",
   "execution_count": 37,
   "id": "ba48ac77",
   "metadata": {},
   "outputs": [
    {
     "name": "stdout",
     "output_type": "stream",
     "text": [
      "[0, 0.5, 1, 3, 5]\n"
     ]
    }
   ],
   "source": [
    " # Bai 19 - Hoa\n",
    "def sort(A):\n",
    "    for i in range(len(A)-1):\n",
    "        for j in range(i + 1,len(A)):\n",
    "            if A[i] > A[j]:\n",
    "                A[i],A[j] = A[j],A[i]\n",
    "    return A\n",
    "A = [1,0.5,0,5,3]\n",
    "B = sort(A)\n",
    "print(B)"
   ]
  },
  {
   "cell_type": "code",
   "execution_count": 51,
   "id": "bf958554",
   "metadata": {},
   "outputs": [
    {
     "name": "stdout",
     "output_type": "stream",
     "text": [
      "[1.2, 'one', 0, 15, 'A', 'B', 'C', 1, 50, 4.56, 'C']\n",
      "[0, 'one', 1, 1.2, 'A', 'B', 'C', 4.56, 15, 50, 'C']\n"
     ]
    }
   ],
   "source": [
    "# Bai 20 - Minh Quân\n",
    "A=[1.2, 'one', 0, 15, 'A', 'B', 'C', 1, 50, 4.56, 'C']\n",
    "def general_sort(A):\n",
    "    B=A.copy()\n",
    "    for i in range(0, len(B)):\n",
    "        if type(B[i]) is int or type(B[i]) is float:\n",
    "            for j in range(i, len(B)):\n",
    "                if type(B[j]) is int or type(B[j]) is float:\n",
    "                    if B[i]>B[j]:\n",
    "                        tmp=B[i]\n",
    "                        B[i]=B[j]\n",
    "                        B[j]=tmp\n",
    "    return B\n",
    "print(A)\n",
    "print(general_sort(A))"
   ]
  },
  {
   "cell_type": "code",
   "execution_count": 53,
   "id": "cda79936",
   "metadata": {},
   "outputs": [
    {
     "name": "stdout",
     "output_type": "stream",
     "text": [
      "nhap vao so nguyen k: 1\n",
      "[0, 'a', 'b', 'c', 1, 2, 3, 4, 5]\n"
     ]
    }
   ],
   "source": [
    "# Bai 21 //Minh Nhat\n",
    "A=[0,1,2,3,4,5]\n",
    "B=[\"a\",\"b\",\"c\"]\n",
    "k=int(input(\"nhap vao so nguyen k: \"))\n",
    "for i in B:\n",
    "    A.insert(k,i)\n",
    "    k=k+1\n",
    "print(A)"
   ]
  },
  {
   "cell_type": "code",
   "execution_count": null,
   "id": "376ab5fb",
   "metadata": {},
   "outputs": [],
   "source": [
    "# Bai 22\n"
   ]
  },
  {
   "cell_type": "code",
   "execution_count": null,
   "id": "d3142772",
   "metadata": {},
   "outputs": [],
   "source": [
    "# Bai 23\n"
   ]
  },
  {
   "cell_type": "code",
   "execution_count": null,
   "id": "89dc4a3d",
   "metadata": {},
   "outputs": [],
   "source": [
    "# Bai 24\n"
   ]
  },
  {
   "cell_type": "code",
   "execution_count": 72,
   "id": "1ac2b4ea",
   "metadata": {},
   "outputs": [
    {
     "name": "stdout",
     "output_type": "stream",
     "text": [
      "['0', '0', '0', '0', '1', '1', '1', '1', '1']\n"
     ]
    }
   ],
   "source": [
    "# Bai 25 Thanh Nhat\n",
    "m = 4\n",
    "n = 5\n",
    "s = (\"0 \"*m + \"1 \"*n).split()\n",
    "print(s)\n"
   ]
  },
  {
   "cell_type": "code",
   "execution_count": 27,
   "id": "87797f3f",
   "metadata": {},
   "outputs": [
    {
     "name": "stdout",
     "output_type": "stream",
     "text": [
      "[1, 2, 3, 4]\n",
      "[4, 3, 2, 1]\n"
     ]
    }
   ],
   "source": [
    "# Bai 27 Anh tú\n",
    "A=[1,2,3,4]\n",
    "B=A[::-1].copy()\n",
    "print(A)\n",
    "print(B)"
   ]
  },
  {
   "cell_type": "code",
   "execution_count": 46,
   "id": "4fc056cc",
   "metadata": {},
   "outputs": [],
   "source": [
    "def printMatrix(A):\n",
    "    n = len(A)\n",
    "    m = len(A[0])\n",
    "    for i in range(0, n):\n",
    "        for j in range(0, m):\n",
    "            print(A[i][j], end = \" \")\n",
    "        print()"
   ]
  },
  {
   "cell_type": "code",
   "execution_count": 48,
   "id": "c590d740",
   "metadata": {},
   "outputs": [
    {
     "name": "stdout",
     "output_type": "stream",
     "text": [
      "3 4\n",
      "Nhap hang thu 0 :\n",
      "Nhap cot thu1: 1\n",
      "Nhap cot thu2: 2\n",
      "Nhap cot thu3: 3\n",
      "Nhap cot thu4: 4\n",
      "Nhap hang thu 1 :\n",
      "Nhap cot thu1: 4\n",
      "Nhap cot thu2: 3\n",
      "Nhap cot thu3: 2\n",
      "Nhap cot thu4: 1\n",
      "Nhap hang thu 2 :\n",
      "Nhap cot thu1: 6\n",
      "Nhap cot thu2: 7\n",
      "Nhap cot thu3: 8\n",
      "Nhap cot thu4: 9\n",
      "Matrix sau khi nhap:\n",
      "1 2 3 4 \n",
      "4 3 2 1 \n",
      "6 7 8 9 \n",
      "nhap c1 va c2:\n",
      "1 2\n",
      "1 3 2 4 \n",
      "4 2 3 1 \n",
      "6 8 7 9 \n"
     ]
    }
   ],
   "source": [
    "# Bai 11 tr.107 - Tran Van Dat\n",
    "\n",
    "a = []\n",
    "n,m = map(int, input().split())\n",
    "for i in range(0, n):\n",
    "    a.append([])\n",
    "    print(\"Nhap hang thu\", i, \":\")\n",
    "    for j in range(0, m):\n",
    "        x = int(input(\"Nhap cot thu\" + str(j + 1) + \": \"))\n",
    "        a[i].append(x)\n",
    "print(\"Matrix sau khi nhap:\")\n",
    "printMatrix(a)\n",
    "print(\"nhap c1 va c2:\")\n",
    "c1, c2 = map(int, input().split())\n",
    "for i in range(0, n):\n",
    "    a[i][c1], a[i][c2] = a[i][c2], a[i][c1]\n",
    "printMatrix(a)\n"
   ]
  },
  {
   "cell_type": "code",
   "execution_count": 47,
   "id": "6e98acf0",
   "metadata": {},
   "outputs": [
    {
     "name": "stdout",
     "output_type": "stream",
     "text": [
      "4 6 8 \n",
      "10 12 14 \n"
     ]
    }
   ],
   "source": [
    "## Bai 12 tr. 107 Hòa\n",
    "def Sum(A,B):\n",
    "    C = []\n",
    "    for i in range(len(A)):\n",
    "        D = []\n",
    "        for j in range(len(A[i])):\n",
    "            D += [A[i][j]+B[i][j]]\n",
    "        C += [D]\n",
    "    return C\n",
    "A = [[1,2,3],[4,5,6]]\n",
    "B = [[3,4,5],[6,7,8]]\n",
    "C = Sum(A,B)\n",
    "printMatrix(C)"
   ]
  },
  {
   "cell_type": "code",
   "execution_count": null,
   "id": "d54fa49e",
   "metadata": {},
   "outputs": [],
   "source": [
    "# Bai 15 tr.107\n"
   ]
  },
  {
   "cell_type": "code",
   "execution_count": 70,
   "id": "c6961ad6",
   "metadata": {},
   "outputs": [
    {
     "name": "stdout",
     "output_type": "stream",
     "text": [
      "[0, 16, 40, 50]\n"
     ]
    }
   ],
   "source": [
    "# Bai 18 tr.107 - Thanh An\n",
    "def solve(*x):\n",
    "    lst = []\n",
    "    A = []\n",
    "    for i in x:\n",
    "        lst.append(i)\n",
    "    B = []\n",
    "    B.append(lst[0])\n",
    "    i = 1\n",
    "    while i != len(lst):\n",
    "        if lst[i] > lst[i-1]:\n",
    "            B.append(lst[i])\n",
    "            i += 1\n",
    "        else:\n",
    "            A.append(B)\n",
    "            B = []\n",
    "            B.append(lst[i])\n",
    "            i += 1\n",
    "        if i == len(lst):\n",
    "            A.append(B)\n",
    "    max_len = 0\n",
    "    for x in A:\n",
    "        if len(x) > max_len:\n",
    "            max_len = len(x)\n",
    "    for x in A:\n",
    "        if len(x) == max_len:\n",
    "            print(x)\n",
    "solve(3, 1, 2, 4, -1, 8, 7, 10, 11, 7, 8, 9, 0, 16, 40, 50, -100, 1, 40)"
   ]
  },
  {
   "cell_type": "code",
   "execution_count": 81,
   "id": "d5d7be7b",
   "metadata": {},
   "outputs": [
    {
     "name": "stdout",
     "output_type": "stream",
     "text": [
      "1 2 3 4 \n",
      "5 6 7 8 \n",
      "9 10 11 12 \n",
      "1 5 9 \n",
      "2 6 10 \n",
      "3 7 11 \n",
      "4 8 12 \n"
     ]
    }
   ],
   "source": [
    "# Bài 20 tr.108\n",
    "a = [[1, 2, 3, 4], [5, 6, 7, 8], [9, 10, 11, 12]]\n",
    "k = []\n",
    "for i in range(4):\n",
    "    b = []\n",
    "    for j in range(3):\n",
    "        b.append(a[j][i])\n",
    "    k.append(b)\n",
    "printMatrix(a)\n",
    "printMatrix(k)"
   ]
  },
  {
   "cell_type": "code",
   "execution_count": 18,
   "id": "840c844c",
   "metadata": {},
   "outputs": [
    {
     "name": "stdout",
     "output_type": "stream",
     "text": [
      "7\n"
     ]
    }
   ],
   "source": [
    "# Bai 11 tr.144\n",
    "#Thành\n",
    "def cnt(s):\n",
    "    a = s.split()\n",
    "    return len(a)\n",
    "s=\"Ha Noi thu do cua Viet Nam\"\n",
    "print(cnt(s))\n"
   ]
  },
  {
   "cell_type": "code",
   "execution_count": 8,
   "id": "624e1d51",
   "metadata": {},
   "outputs": [
    {
     "name": "stdout",
     "output_type": "stream",
     "text": [
      "Ha noi thu do cua viet nam\n"
     ]
    }
   ],
   "source": [
    "# Bai 12 tr.144 thanh nhật\n",
    "def fullstrip(s):\n",
    "    s = s.strip()\n",
    "    while \"  \" in s:\n",
    "        s = s.replace(\"  \",\" \")\n",
    "    return s\n",
    "print(fullstrip(\"Ha noi   thu do  cua viet  nam\"))"
   ]
  },
  {
   "cell_type": "code",
   "execution_count": 7,
   "id": "9a645093",
   "metadata": {},
   "outputs": [
    {
     "name": "stdout",
     "output_type": "stream",
     "text": [
      "Bình\n"
     ]
    }
   ],
   "source": [
    "# Bai 13 tr.144 Nguyễn Hoàn Mỹ\n",
    "def Tachten(s):\n",
    "    a = s.split(\" \")\n",
    "    return a[-1]\n",
    "s = 'Nguyễn Quang Bình'\n",
    "print(Tachten(s))"
   ]
  },
  {
   "cell_type": "code",
   "execution_count": 21,
   "id": "100c76d3",
   "metadata": {},
   "outputs": [
    {
     "name": "stdout",
     "output_type": "stream",
     "text": [
      "khanh050403\n",
      "6\n"
     ]
    }
   ],
   "source": [
    "# Bai 14 tr.144 Duy Khanh\n",
    "import re\n",
    "s=str(input())\n",
    "i=re.findall('\\d',s)\n",
    "print(len(i))"
   ]
  },
  {
   "cell_type": "code",
   "execution_count": null,
   "id": "f0349a0f",
   "metadata": {},
   "outputs": [],
   "source": []
  }
 ],
 "metadata": {
  "kernelspec": {
   "display_name": "Python 3 (ipykernel)",
   "language": "python",
   "name": "python3"
  },
  "language_info": {
   "codemirror_mode": {
    "name": "ipython",
    "version": 3
   },
   "file_extension": ".py",
   "mimetype": "text/x-python",
   "name": "python",
   "nbconvert_exporter": "python",
   "pygments_lexer": "ipython3",
   "version": "3.9.7"
  }
 },
 "nbformat": 4,
 "nbformat_minor": 5
}
